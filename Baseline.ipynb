{
 "cells": [
  {
   "cell_type": "code",
   "execution_count": 1,
   "metadata": {},
   "outputs": [],
   "source": [
    "from src.data import extract_vault, holdout, delete_nodes_without_links\n",
    "import matplotlib.pyplot as plt \n",
    "import networkx as nx\n",
    "import numpy as np\n",
    "from src.model_base import calculate_adamic_adar, create_pairs_for_nodes, generate_recomendations, evaluate_baseline\n",
    "from tqdm import tqdm\n",
    "from copy import deepcopy\n",
    "import pandas as pd\n",
    "from src.metrics import recall_n\n",
    "from pathlib import Path"
   ]
  },
  {
   "cell_type": "code",
   "execution_count": 2,
   "metadata": {},
   "outputs": [
    {
     "name": "stdout",
     "output_type": "stream",
     "text": [
      "Front matter not populated for T - Thecookiemomma's Daily Log.md: ParserError('while parsing a block mapping', <yaml._yaml.Mark object at 0x7f932078a4a0>, 'did not find expected key', <yaml._yaml.Mark object at 0x7f9320adee00>)\n",
      "Front matter not populated for T - Thecookiemomma's Daily Log.md: ParserError('while parsing a block mapping', <yaml._yaml.Mark object at 0x7f932010de00>, 'did not find expected key', <yaml._yaml.Mark object at 0x7f932010da40>)\n",
      "Front matter not populated for kepano.md: ScannerError('while scanning for the next token', <yaml._yaml.Mark object at 0x7f9320141310>, 'found character that cannot start any token', <yaml._yaml.Mark object at 0x7f9320141810>)\n",
      "Front matter not populated for kepano.md: ScannerError('while scanning for the next token', <yaml._yaml.Mark object at 0x7f93201416d0>, 'found character that cannot start any token', <yaml._yaml.Mark object at 0x7f9320141f40>)\n",
      "Front matter not populated for gavinmn.md: ScannerError('while scanning for the next token', <yaml._yaml.Mark object at 0x7f932008a1d0>, 'found character that cannot start any token', <yaml._yaml.Mark object at 0x7f932008abd0>)\n",
      "Front matter not populated for gavinmn.md: ScannerError('while scanning for the next token', <yaml._yaml.Mark object at 0x7f932008aae0>, 'found character that cannot start any token', <yaml._yaml.Mark object at 0x7f932008ad10>)\n",
      "Front matter not populated for radekkozak.md: ScannerError('while scanning for the next token', <yaml._yaml.Mark object at 0x7f931fe6b1d0>, 'found character that cannot start any token', <yaml._yaml.Mark object at 0x7f931fe6bae0>)\n",
      "Front matter not populated for radekkozak.md: ScannerError('while scanning for the next token', <yaml._yaml.Mark object at 0x7f931fc37860>, 'found character that cannot start any token', <yaml._yaml.Mark object at 0x7f931fc379a0>)\n",
      "Front matter not populated for beaussan.md: ScannerError('while scanning for the next token', <yaml._yaml.Mark object at 0x7f931fbc8950>, 'found character that cannot start any token', <yaml._yaml.Mark object at 0x7f931fbc8e00>)\n",
      "Front matter not populated for beaussan.md: ScannerError('while scanning for the next token', <yaml._yaml.Mark object at 0x7f931fd36c20>, 'found character that cannot start any token', <yaml._yaml.Mark object at 0x7f931fd360e0>)\n",
      "Front matter not populated for jaynguyens.md: ScannerError('while scanning for the next token', <yaml._yaml.Mark object at 0x7f931fc973b0>, 'found character that cannot start any token', <yaml._yaml.Mark object at 0x7f931fc97b80>)\n",
      "Front matter not populated for jaynguyens.md: ScannerError('while scanning for the next token', <yaml._yaml.Mark object at 0x7f932073cc20>, 'found character that cannot start any token', <yaml._yaml.Mark object at 0x7f932073c950>)\n",
      "Front matter not populated for T - Thecookiemomma's Daily Log.md: ParserError('while parsing a block mapping', <yaml._yaml.Mark object at 0x7f931f3842c0>, 'did not find expected key', <yaml._yaml.Mark object at 0x7f931f384720>)\n",
      "Front matter not populated for kepano.md: ScannerError('while scanning for the next token', <yaml._yaml.Mark object at 0x7f9320049720>, 'found character that cannot start any token', <yaml._yaml.Mark object at 0x7f9320049040>)\n",
      "Front matter not populated for gavinmn.md: ScannerError('while scanning for the next token', <yaml._yaml.Mark object at 0x7f93207e2f40>, 'found character that cannot start any token', <yaml._yaml.Mark object at 0x7f9320044450>)\n",
      "Front matter not populated for radekkozak.md: ScannerError('while scanning for the next token', <yaml._yaml.Mark object at 0x7f931fb37360>, 'found character that cannot start any token', <yaml._yaml.Mark object at 0x7f931fb37090>)\n",
      "Front matter not populated for beaussan.md: ScannerError('while scanning for the next token', <yaml._yaml.Mark object at 0x7f931fd72310>, 'found character that cannot start any token', <yaml._yaml.Mark object at 0x7f931fd72db0>)\n",
      "Front matter not populated for jaynguyens.md: ScannerError('while scanning for the next token', <yaml._yaml.Mark object at 0x7f931fdd0450>, 'found character that cannot start any token', <yaml._yaml.Mark object at 0x7f9320477040>)\n",
      "<class 'pandas.core.frame.DataFrame'>\n",
      "Index: 4874 entries,  to css-obsidian-layout.png\n",
      "Data columns (total 9 columns):\n",
      " #   Column            Non-Null Count  Dtype         \n",
      "---  ------            --------------  -----         \n",
      " 0   rel_filepath      2413 non-null   object        \n",
      " 1   abs_filepath      2413 non-null   object        \n",
      " 2   file_exists       4874 non-null   bool          \n",
      " 3   n_backlinks       4874 non-null   int64         \n",
      " 4   n_wikilinks       2337 non-null   float64       \n",
      " 5   n_tags            2337 non-null   float64       \n",
      " 6   n_embedded_files  2337 non-null   float64       \n",
      " 7   modified_time     2413 non-null   datetime64[ns]\n",
      " 8   graph_category    4874 non-null   object        \n",
      "dtypes: bool(1), datetime64[ns](1), float64(3), int64(1), object(3)\n",
      "memory usage: 347.5+ KB\n",
      "None\n",
      "deleted 72 nodes from graph\n"
     ]
    }
   ],
   "source": [
    "vault_path = Path('./vaultes/obsidian-hub/')\n",
    "vault = extract_vault(vault_path)\n",
    "vault_graph = deepcopy(vault.graph)\n",
    "delete_nodes_without_links(vault_graph)"
   ]
  },
  {
   "attachments": {},
   "cell_type": "markdown",
   "metadata": {},
   "source": [
    "## Baseline prediction and scoring"
   ]
  },
  {
   "cell_type": "code",
   "execution_count": 3,
   "metadata": {},
   "outputs": [
    {
     "data": {
      "text/plain": [
       "146"
      ]
     },
     "execution_count": 3,
     "metadata": {},
     "output_type": "execute_result"
    }
   ],
   "source": [
    "train_graph, holdout_links = holdout(vault.graph, seed=42, alpha=0.1)\n",
    "sum([hl in train_graph.edges for hl in holdout_links])"
   ]
  },
  {
   "cell_type": "code",
   "execution_count": 4,
   "metadata": {},
   "outputs": [],
   "source": [
    "# for hl in holdout_links:\n",
    "#     print(hl[0])"
   ]
  },
  {
   "cell_type": "code",
   "execution_count": 5,
   "metadata": {},
   "outputs": [
    {
     "name": "stderr",
     "output_type": "stream",
     "text": [
      "100%|██████████| 1023/1023 [01:49<00:00,  9.31it/s]\n"
     ]
    }
   ],
   "source": [
    "holdout_nodes = [hl[0] for hl in holdout_links]\n",
    "pairs = create_pairs_for_nodes(nodes=holdout_nodes, graph=train_graph, tqdm_disable=False)\n",
    "scores = calculate_adamic_adar(graph=train_graph, pair_nodes=pairs).groupby('node_from').agg(lambda x: list(x))"
   ]
  },
  {
   "cell_type": "code",
   "execution_count": 12,
   "metadata": {},
   "outputs": [],
   "source": [
    "recs = generate_recomendations(scores)"
   ]
  },
  {
   "cell_type": "code",
   "execution_count": 13,
   "metadata": {},
   "outputs": [],
   "source": [
    "# recs"
   ]
  },
  {
   "cell_type": "code",
   "execution_count": 14,
   "metadata": {},
   "outputs": [],
   "source": [
    "import pandas as pd\n",
    "holdout_links_df = pd.DataFrame.from_records(holdout_links, columns=['note_id', 'notes_to', 'p']).groupby('note_id').agg(lambda x: list(x))[['notes_to']]"
   ]
  },
  {
   "cell_type": "code",
   "execution_count": 15,
   "metadata": {},
   "outputs": [],
   "source": [
    "# holdout_links_df"
   ]
  },
  {
   "cell_type": "code",
   "execution_count": 16,
   "metadata": {},
   "outputs": [],
   "source": [
    "from src.metrics import recall_n"
   ]
  },
  {
   "cell_type": "code",
   "execution_count": 18,
   "metadata": {},
   "outputs": [
    {
     "data": {
      "text/plain": [
       "0.010703363914373088"
      ]
     },
     "execution_count": 18,
     "metadata": {},
     "output_type": "execute_result"
    }
   ],
   "source": [
    "recall_n(recs=recs, holdout_links=holdout_links_df, topn=5)"
   ]
  },
  {
   "attachments": {},
   "cell_type": "markdown",
   "metadata": {},
   "source": [
    "## Evaluate on different splittings"
   ]
  },
  {
   "cell_type": "code",
   "execution_count": 34,
   "metadata": {},
   "outputs": [
    {
     "name": "stderr",
     "output_type": "stream",
     "text": [
      "100%|██████████| 1000/1000 [00:23<00:00, 43.21it/s]\n"
     ]
    }
   ],
   "source": [
    "alpha = 0.1\n",
    "topn = 20\n",
    "n_exp = 1000\n",
    "recall = evaluate_baseline(graph=vault_graph, n_exp=n_exp, alpha=alpha, topn=topn)"
   ]
  },
  {
   "cell_type": "code",
   "execution_count": 35,
   "metadata": {},
   "outputs": [
    {
     "data": {
      "text/plain": [
       "0.408878857022607"
      ]
     },
     "execution_count": 35,
     "metadata": {},
     "output_type": "execute_result"
    }
   ],
   "source": [
    "np.mean(recall)"
   ]
  },
  {
   "cell_type": "code",
   "execution_count": 36,
   "metadata": {},
   "outputs": [
    {
     "data": {
      "image/png": "[encoded data removed]",
      "text/plain": [
       "<Figure size 640x480 with 1 Axes>"
      ]
     },
     "metadata": {},
     "output_type": "display_data"
    }
   ],
   "source": [
    "fig, ax = plt.subplots(1)\n",
    "hist = pd.DataFrame(recall).hist(bins=15, ax=ax, label=f'baseline a={alpha}, topn={topn}')\n",
    "ax.legend(loc='best')\n",
    "ax.set_title('')\n",
    "plt.savefig(f'./results/baseline/alpha={alpha}_topn={topn}_n_exp={n_exp}_vault={vault_path.name}.png', dpi=300)"
   ]
  },
  {
   "cell_type": "code",
   "execution_count": 3,
   "metadata": {},
   "outputs": [
    {
     "name": "stderr",
     "output_type": "stream",
     "text": [
      "100%|██████████| 1/1 [15:42<00:00, 942.10s/it]\n",
      "100%|██████████| 1/1 [14:40<00:00, 880.82s/it]\n",
      "100%|██████████| 1/1 [16:17<00:00, 977.68s/it]\n",
      "100%|██████████| 1/1 [15:54<00:00, 954.76s/it]\n",
      "100%|██████████| 1/1 [15:26<00:00, 926.14s/it]\n",
      "100%|██████████| 1/1 [16:06<00:00, 966.46s/it]\n"
     ]
    }
   ],
   "source": [
    "alphas = [0.1, 0.2]#, 0.5]\n",
    "topns = [5, 10, 20]\n",
    "n_exp = 1\n",
    "data_recall = {}\n",
    "for alpha in alphas:\n",
    "    for topn in topns:\n",
    "        recall = evaluate_baseline(graph=vault_graph, n_exp=n_exp, alpha=alpha, topn=topn)\n",
    "        # fig, ax = plt.subplots(1)\n",
    "        # hist = pd.DataFrame(recall).hist(bins=15, ax=ax, label=f'baseline a={alpha}, topn={topn}')\n",
    "        # ax.legend(loc='best')\n",
    "        # ax.set_title('')\n",
    "        # plt.savefig(f'./results/baseline/alpha={alpha}_topn={topn}_n_exp={n_exp}_vault={vault_path.name}.png', dpi=300)\n",
    "\n",
    "        data_recall[(alpha, topn)] = np.mean(recall)"
   ]
  },
  {
   "cell_type": "code",
   "execution_count": 4,
   "metadata": {},
   "outputs": [],
   "source": [
    "df_res = pd.DataFrame(data_recall, index=[0])\n",
    "df_res.to_csv('baseline_results_big_data.csv')\n",
    "# df_res.to_csv('baseline_results.csv')"
   ]
  },
  {
   "cell_type": "code",
   "execution_count": 5,
   "metadata": {},
   "outputs": [
    {
     "data": {
      "text/html": [
       "<div>\n",
       "<style scoped>\n",
       "    .dataframe tbody tr th:only-of-type {\n",
       "        vertical-align: middle;\n",
       "    }\n",
       "\n",
       "    .dataframe tbody tr th {\n",
       "        vertical-align: top;\n",
       "    }\n",
       "\n",
       "    .dataframe thead tr th {\n",
       "        text-align: left;\n",
       "    }\n",
       "</style>\n",
       "<table border=\"1\" class=\"dataframe\">\n",
       "  <thead>\n",
       "    <tr>\n",
       "      <th></th>\n",
       "      <th colspan=\"3\" halign=\"left\">0.1</th>\n",
       "      <th colspan=\"3\" halign=\"left\">0.2</th>\n",
       "    </tr>\n",
       "    <tr>\n",
       "      <th></th>\n",
       "      <th>5</th>\n",
       "      <th>10</th>\n",
       "      <th>20</th>\n",
       "      <th>5</th>\n",
       "      <th>10</th>\n",
       "      <th>20</th>\n",
       "    </tr>\n",
       "  </thead>\n",
       "  <tbody>\n",
       "    <tr>\n",
       "      <th>0</th>\n",
       "      <td>0.007105</td>\n",
       "      <td>0.015901</td>\n",
       "      <td>0.028736</td>\n",
       "      <td>0.018717</td>\n",
       "      <td>0.018002</td>\n",
       "      <td>0.025336</td>\n",
       "    </tr>\n",
       "  </tbody>\n",
       "</table>\n",
       "</div>"
      ],
      "text/plain": [
       "        0.1                           0.2                    \n",
       "         5         10        20        5         10        20\n",
       "0  0.007105  0.015901  0.028736  0.018717  0.018002  0.025336"
      ]
     },
     "execution_count": 5,
     "metadata": {},
     "output_type": "execute_result"
    }
   ],
   "source": [
    "df_res"
   ]
  },
  {
   "cell_type": "code",
   "execution_count": 47,
   "metadata": {},
   "outputs": [
    {
     "data": {
      "text/plain": [
       "{(0.1, 5): 0.16299429875679874,\n",
       " (0.1, 10): 0.26881922521922524,\n",
       " (0.1, 20): 0.40725452279202273,\n",
       " (0.2, 5): 0.16257566507566507,\n",
       " (0.2, 10): 0.27357927489177486,\n",
       " (0.2, 20): 0.41150823944573944,\n",
       " (0.5, 5): 0.1557018049080549,\n",
       " (0.5, 10): 0.27219533475783475,\n",
       " (0.5, 20): 0.419812407962408}"
      ]
     },
     "execution_count": 47,
     "metadata": {},
     "output_type": "execute_result"
    }
   ],
   "source": [
    "data_recall"
   ]
  },
  {
   "cell_type": "code",
   "execution_count": null,
   "metadata": {},
   "outputs": [],
   "source": []
  }
 ],
 "metadata": {
  "kernelspec": {
   "display_name": ".rec_sys_proj_venv",
   "language": "python",
   "name": "python3"
  },
  "language_info": {
   "codemirror_mode": {
    "name": "ipython",
    "version": 3
   },
   "file_extension": ".py",
   "mimetype": "text/x-python",
   "name": "python",
   "nbconvert_exporter": "python",
   "pygments_lexer": "ipython3",
   "version": "3.9.16"
  },
  "orig_nbformat": 4
 },
 "nbformat": 4,
 "nbformat_minor": 2
}
