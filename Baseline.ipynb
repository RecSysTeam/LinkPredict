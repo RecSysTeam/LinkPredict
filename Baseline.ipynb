{
 "cells": [
  {
   "cell_type": "code",
   "execution_count": 1,
   "metadata": {},
   "outputs": [],
   "source": [
    "from src.data import extract_vault, holdout\n",
    "import matplotlib.pyplot as plt \n",
    "import networkx as nx\n",
    "import numpy as np\n",
    "from src.model_base import calculate_adamic_adar, create_pairs_for_nodes, generate_recomendations\n",
    "from tqdm import tqdm\n",
    "from copy import deepcopy\n",
    "import pandas as pd\n",
    "from src.metrics import recall_n"
   ]
  },
  {
   "cell_type": "code",
   "execution_count": 2,
   "metadata": {},
   "outputs": [
    {
     "name": "stdout",
     "output_type": "stream",
     "text": [
      "Front matter not populated for T - Thecookiemomma's Daily Log.md: ParserError('while parsing a block mapping', <yaml._yaml.Mark object at 0x7f225f2dee00>, 'did not find expected key', <yaml._yaml.Mark object at 0x7f225f2dee50>)\n",
      "Front matter not populated for T - Thecookiemomma's Daily Log.md: ParserError('while parsing a block mapping', <yaml._yaml.Mark object at 0x7f225ee4a900>, 'did not find expected key', <yaml._yaml.Mark object at 0x7f225ee4aa90>)\n",
      "Front matter not populated for kepano.md: ScannerError('while scanning for the next token', <yaml._yaml.Mark object at 0x7f225edca8b0>, 'found character that cannot start any token', <yaml._yaml.Mark object at 0x7f225edcaf90>)\n",
      "Front matter not populated for kepano.md: ScannerError('while scanning for the next token', <yaml._yaml.Mark object at 0x7f225f5c3770>, 'found character that cannot start any token', <yaml._yaml.Mark object at 0x7f225f5c3310>)\n",
      "Front matter not populated for gavinmn.md: ScannerError('while scanning for the next token', <yaml._yaml.Mark object at 0x7f225ee4f4a0>, 'found character that cannot start any token', <yaml._yaml.Mark object at 0x7f225ee4fa90>)\n",
      "Front matter not populated for gavinmn.md: ScannerError('while scanning for the next token', <yaml._yaml.Mark object at 0x7f225ee4fc20>, 'found character that cannot start any token', <yaml._yaml.Mark object at 0x7f225ee4f540>)\n",
      "Front matter not populated for radekkozak.md: ScannerError('while scanning for the next token', <yaml._yaml.Mark object at 0x7f225eb34b80>, 'found character that cannot start any token', <yaml._yaml.Mark object at 0x7f225eb340e0>)\n",
      "Front matter not populated for radekkozak.md: ScannerError('while scanning for the next token', <yaml._yaml.Mark object at 0x7f225eb345e0>, 'found character that cannot start any token', <yaml._yaml.Mark object at 0x7f225eb34950>)\n",
      "Front matter not populated for beaussan.md: ScannerError('while scanning for the next token', <yaml._yaml.Mark object at 0x7f225e9db4f0>, 'found character that cannot start any token', <yaml._yaml.Mark object at 0x7f225e9dbe00>)\n",
      "Front matter not populated for beaussan.md: ScannerError('while scanning for the next token', <yaml._yaml.Mark object at 0x7f225ebdc540>, 'found character that cannot start any token', <yaml._yaml.Mark object at 0x7f225ebdc220>)\n",
      "Front matter not populated for jaynguyens.md: ScannerError('while scanning for the next token', <yaml._yaml.Mark object at 0x7f225e9358b0>, 'found character that cannot start any token', <yaml._yaml.Mark object at 0x7f225e935770>)\n",
      "Front matter not populated for jaynguyens.md: ScannerError('while scanning for the next token', <yaml._yaml.Mark object at 0x7f225eab5630>, 'found character that cannot start any token', <yaml._yaml.Mark object at 0x7f225ebdc3b0>)\n",
      "Front matter not populated for T - Thecookiemomma's Daily Log.md: ParserError('while parsing a block mapping', <yaml._yaml.Mark object at 0x7f225ea7ee00>, 'did not find expected key', <yaml._yaml.Mark object at 0x7f225ea7e090>)\n",
      "Front matter not populated for kepano.md: ScannerError('while scanning for the next token', <yaml._yaml.Mark object at 0x7f225e9ff8b0>, 'found character that cannot start any token', <yaml._yaml.Mark object at 0x7f225e9ff590>)\n",
      "Front matter not populated for gavinmn.md: ScannerError('while scanning for the next token', <yaml._yaml.Mark object at 0x7f225ef0f4a0>, 'found character that cannot start any token', <yaml._yaml.Mark object at 0x7f225ef0f360>)\n",
      "Front matter not populated for radekkozak.md: ScannerError('while scanning for the next token', <yaml._yaml.Mark object at 0x7f225e9534f0>, 'found character that cannot start any token', <yaml._yaml.Mark object at 0x7f225e953b80>)\n",
      "Front matter not populated for beaussan.md: ScannerError('while scanning for the next token', <yaml._yaml.Mark object at 0x7f225f517220>, 'found character that cannot start any token', <yaml._yaml.Mark object at 0x7f225f5170e0>)\n",
      "Front matter not populated for jaynguyens.md: ScannerError('while scanning for the next token', <yaml._yaml.Mark object at 0x7f225ec62220>, 'found character that cannot start any token', <yaml._yaml.Mark object at 0x7f225ec62720>)\n",
      "<class 'pandas.core.frame.DataFrame'>\n",
      "Index: 4874 entries,  to css-obsidian-layout.png\n",
      "Data columns (total 9 columns):\n",
      " #   Column            Non-Null Count  Dtype         \n",
      "---  ------            --------------  -----         \n",
      " 0   rel_filepath      2413 non-null   object        \n",
      " 1   abs_filepath      2413 non-null   object        \n",
      " 2   file_exists       4874 non-null   bool          \n",
      " 3   n_backlinks       4874 non-null   int64         \n",
      " 4   n_wikilinks       2337 non-null   float64       \n",
      " 5   n_tags            2337 non-null   float64       \n",
      " 6   n_embedded_files  2337 non-null   float64       \n",
      " 7   modified_time     2413 non-null   datetime64[ns]\n",
      " 8   graph_category    4874 non-null   object        \n",
      "dtypes: bool(1), datetime64[ns](1), float64(3), int64(1), object(3)\n",
      "memory usage: 347.5+ KB\n",
      "None\n"
     ]
    }
   ],
   "source": [
    "vault = extract_vault('./vaultes/obsidian-hub/')\n",
    "vault_graph = deepcopy(vault.graph)"
   ]
  },
  {
   "attachments": {},
   "cell_type": "markdown",
   "metadata": {},
   "source": [
    "## Baseline prediction and scoring"
   ]
  },
  {
   "cell_type": "code",
   "execution_count": 3,
   "metadata": {},
   "outputs": [
    {
     "data": {
      "text/plain": [
       "141"
      ]
     },
     "execution_count": 3,
     "metadata": {},
     "output_type": "execute_result"
    }
   ],
   "source": [
    "train_graph, holdout_links = holdout(vault.graph, seed=42, alpha=0.1)\n",
    "sum([hl in train_graph.edges for hl in holdout_links])"
   ]
  },
  {
   "cell_type": "code",
   "execution_count": 4,
   "metadata": {},
   "outputs": [],
   "source": [
    "# for hl in holdout_links:\n",
    "#     print(hl[0])"
   ]
  },
  {
   "cell_type": "code",
   "execution_count": 6,
   "metadata": {},
   "outputs": [
    {
     "name": "stderr",
     "output_type": "stream",
     "text": [
      " 51%|█████     | 519/1023 [00:28<00:27, 18.15it/s]\n"
     ]
    },
    {
     "ename": "KeyboardInterrupt",
     "evalue": "",
     "output_type": "error",
     "traceback": [
      "\u001b[0;31m---------------------------------------------------------------------------\u001b[0m",
      "\u001b[0;31mKeyboardInterrupt\u001b[0m                         Traceback (most recent call last)",
      "Cell \u001b[0;32mIn[6], line 2\u001b[0m\n\u001b[1;32m      1\u001b[0m holdout_nodes \u001b[39m=\u001b[39m [hl[\u001b[39m0\u001b[39m] \u001b[39mfor\u001b[39;00m hl \u001b[39min\u001b[39;00m holdout_links]\n\u001b[0;32m----> 2\u001b[0m pairs \u001b[39m=\u001b[39m create_pairs_for_nodes(nodes\u001b[39m=\u001b[39;49mholdout_nodes, graph\u001b[39m=\u001b[39;49mtrain_graph, tqdm_disable\u001b[39m=\u001b[39;49m\u001b[39mFalse\u001b[39;49;00m)\n\u001b[1;32m      3\u001b[0m scores \u001b[39m=\u001b[39m calculate_adamic_adar(graph\u001b[39m=\u001b[39mtrain_graph, pair_nodes\u001b[39m=\u001b[39mpairs)\u001b[39m.\u001b[39mgroupby(\u001b[39m'\u001b[39m\u001b[39mnode_from\u001b[39m\u001b[39m'\u001b[39m)\u001b[39m.\u001b[39magg(\u001b[39mlambda\u001b[39;00m x: \u001b[39mlist\u001b[39m(x))\n",
      "File \u001b[0;32m~/Documents/SK/RecSys/Project/src/model_base.py:22\u001b[0m, in \u001b[0;36mcreate_pairs_for_nodes\u001b[0;34m(nodes, graph, tqdm_disable)\u001b[0m\n\u001b[1;32m     19\u001b[0m graph_nodes \u001b[39m=\u001b[39m \u001b[39mlist\u001b[39m(graph\u001b[39m.\u001b[39mnodes)\n\u001b[1;32m     21\u001b[0m \u001b[39mfor\u001b[39;00m node \u001b[39min\u001b[39;00m tqdm(nodes, disable\u001b[39m=\u001b[39mtqdm_disable):\n\u001b[0;32m---> 22\u001b[0m     result \u001b[39m=\u001b[39m result \u001b[39m+\u001b[39;49m [(node, gn) \u001b[39mfor\u001b[39;49;00m gn \u001b[39min\u001b[39;49;00m graph_nodes \u001b[39mif\u001b[39;49;00m node \u001b[39m!=\u001b[39;49m gn]\n\u001b[1;32m     24\u001b[0m \u001b[39mreturn\u001b[39;00m result\n",
      "\u001b[0;31mKeyboardInterrupt\u001b[0m: "
     ]
    }
   ],
   "source": [
    "holdout_nodes = [hl[0] for hl in holdout_links]\n",
    "pairs = create_pairs_for_nodes(nodes=holdout_nodes, graph=train_graph, tqdm_disable=False)\n",
    "scores = calculate_adamic_adar(graph=train_graph, pair_nodes=pairs).groupby('node_from').agg(lambda x: list(x))"
   ]
  },
  {
   "cell_type": "code",
   "execution_count": null,
   "metadata": {},
   "outputs": [],
   "source": [
    "recs = generate_recomendations(scores)"
   ]
  },
  {
   "cell_type": "code",
   "execution_count": null,
   "metadata": {},
   "outputs": [
    {
     "data": {
      "text/html": [
       "<div>\n",
       "<style scoped>\n",
       "    .dataframe tbody tr th:only-of-type {\n",
       "        vertical-align: middle;\n",
       "    }\n",
       "\n",
       "    .dataframe tbody tr th {\n",
       "        vertical-align: top;\n",
       "    }\n",
       "\n",
       "    .dataframe thead th {\n",
       "        text-align: right;\n",
       "    }\n",
       "</style>\n",
       "<table border=\"1\" class=\"dataframe\">\n",
       "  <thead>\n",
       "    <tr style=\"text-align: right;\">\n",
       "      <th></th>\n",
       "      <th>recomendations</th>\n",
       "    </tr>\n",
       "    <tr>\n",
       "      <th>note_id</th>\n",
       "      <th></th>\n",
       "    </tr>\n",
       "  </thead>\n",
       "  <tbody>\n",
       "    <tr>\n",
       "      <th>1 directional annotations</th>\n",
       "      <td>[add notes to explorer, Obsidian, Obsidian imp...</td>\n",
       "    </tr>\n",
       "    <tr>\n",
       "      <th>BEM naming convention</th>\n",
       "      <td>[CSS collapse heading, subsequent-sibling comb...</td>\n",
       "    </tr>\n",
       "    <tr>\n",
       "      <th>Create a site with mkdocs</th>\n",
       "      <td>[Component Object Model, Obsidian Web - Chrome...</td>\n",
       "    </tr>\n",
       "    <tr>\n",
       "      <th>Hypothesis review</th>\n",
       "      <td>[Obsidian, Obsidian private comments, add note...</td>\n",
       "    </tr>\n",
       "    <tr>\n",
       "      <th>Obsidian improvements</th>\n",
       "      <td>[plugin ideas for Obsidian, Obsidian, 1 direct...</td>\n",
       "    </tr>\n",
       "    <tr>\n",
       "      <th>Obsidian private comments</th>\n",
       "      <td>[add notes to explorer, add notes to explorer,...</td>\n",
       "    </tr>\n",
       "    <tr>\n",
       "      <th>hashtag synonyms</th>\n",
       "      <td>[redirect for notes, setup Obsidian Git, Obsid...</td>\n",
       "    </tr>\n",
       "    <tr>\n",
       "      <th>interwikilinks plugin</th>\n",
       "      <td>[wikilinks, obsidian web integration, Obsidian...</td>\n",
       "    </tr>\n",
       "    <tr>\n",
       "      <th>learn technical art</th>\n",
       "      <td>[build a portfolio, TA brings value to the tea...</td>\n",
       "    </tr>\n",
       "    <tr>\n",
       "      <th>plugin ideas for Obsidian</th>\n",
       "      <td>[Obsidian, Obsidian improvements, wikilinks, 1...</td>\n",
       "    </tr>\n",
       "    <tr>\n",
       "      <th>visualize your progress</th>\n",
       "      <td>[bring value ASAP, learn 3d, learn 2d, apply n...</td>\n",
       "    </tr>\n",
       "    <tr>\n",
       "      <th>wikilinks in code comments</th>\n",
       "      <td>[Component Object Model, Obsidian Web - Chrome...</td>\n",
       "    </tr>\n",
       "  </tbody>\n",
       "</table>\n",
       "</div>"
      ],
      "text/plain": [
       "                                                               recomendations\n",
       "note_id                                                                      \n",
       "1 directional annotations   [add notes to explorer, Obsidian, Obsidian imp...\n",
       "BEM naming convention       [CSS collapse heading, subsequent-sibling comb...\n",
       "Create a site with mkdocs   [Component Object Model, Obsidian Web - Chrome...\n",
       "Hypothesis review           [Obsidian, Obsidian private comments, add note...\n",
       "Obsidian improvements       [plugin ideas for Obsidian, Obsidian, 1 direct...\n",
       "Obsidian private comments   [add notes to explorer, add notes to explorer,...\n",
       "hashtag synonyms            [redirect for notes, setup Obsidian Git, Obsid...\n",
       "interwikilinks plugin       [wikilinks, obsidian web integration, Obsidian...\n",
       "learn technical art         [build a portfolio, TA brings value to the tea...\n",
       "plugin ideas for Obsidian   [Obsidian, Obsidian improvements, wikilinks, 1...\n",
       "visualize your progress     [bring value ASAP, learn 3d, learn 2d, apply n...\n",
       "wikilinks in code comments  [Component Object Model, Obsidian Web - Chrome..."
      ]
     },
     "execution_count": 8,
     "metadata": {},
     "output_type": "execute_result"
    }
   ],
   "source": [
    "# recs"
   ]
  },
  {
   "cell_type": "code",
   "execution_count": null,
   "metadata": {},
   "outputs": [],
   "source": [
    "import pandas as pd\n",
    "holdout_links_df = pd.DataFrame.from_records(holdout_links, columns=['note_id', 'notes_to', 'p']).groupby('note_id').agg(lambda x: list(x))[['notes_to']]"
   ]
  },
  {
   "cell_type": "code",
   "execution_count": null,
   "metadata": {},
   "outputs": [
    {
     "data": {
      "text/html": [
       "<div>\n",
       "<style scoped>\n",
       "    .dataframe tbody tr th:only-of-type {\n",
       "        vertical-align: middle;\n",
       "    }\n",
       "\n",
       "    .dataframe tbody tr th {\n",
       "        vertical-align: top;\n",
       "    }\n",
       "\n",
       "    .dataframe thead th {\n",
       "        text-align: right;\n",
       "    }\n",
       "</style>\n",
       "<table border=\"1\" class=\"dataframe\">\n",
       "  <thead>\n",
       "    <tr style=\"text-align: right;\">\n",
       "      <th></th>\n",
       "      <th>notes_to</th>\n",
       "    </tr>\n",
       "    <tr>\n",
       "      <th>note_id</th>\n",
       "      <th></th>\n",
       "    </tr>\n",
       "  </thead>\n",
       "  <tbody>\n",
       "    <tr>\n",
       "      <th>1 directional annotations</th>\n",
       "      <td>[save quotes n lines]</td>\n",
       "    </tr>\n",
       "    <tr>\n",
       "      <th>BEM naming convention</th>\n",
       "      <td>[A Philosophy of Software Design]</td>\n",
       "    </tr>\n",
       "    <tr>\n",
       "      <th>Create a site with mkdocs</th>\n",
       "      <td>[Obsidian]</td>\n",
       "    </tr>\n",
       "    <tr>\n",
       "      <th>Hypothesis review</th>\n",
       "      <td>[annotate websites]</td>\n",
       "    </tr>\n",
       "    <tr>\n",
       "      <th>Obsidian improvements</th>\n",
       "      <td>[Obsidian]</td>\n",
       "    </tr>\n",
       "    <tr>\n",
       "      <th>Obsidian private comments</th>\n",
       "      <td>[Obsidian private comments-1673286147963.jpeg,...</td>\n",
       "    </tr>\n",
       "    <tr>\n",
       "      <th>hashtag synonyms</th>\n",
       "      <td>[wikilinks]</td>\n",
       "    </tr>\n",
       "    <tr>\n",
       "      <th>interwikilinks plugin</th>\n",
       "      <td>[Wikipedia:Main Page]</td>\n",
       "    </tr>\n",
       "    <tr>\n",
       "      <th>learn technical art</th>\n",
       "      <td>[goal driven learning]</td>\n",
       "    </tr>\n",
       "    <tr>\n",
       "      <th>plugin ideas for Obsidian</th>\n",
       "      <td>[GitHub wikis in obsidian &amp; interwikilinks]</td>\n",
       "    </tr>\n",
       "    <tr>\n",
       "      <th>visualize your progress</th>\n",
       "      <td>[build a portfolio]</td>\n",
       "    </tr>\n",
       "    <tr>\n",
       "      <th>wikilinks in code comments</th>\n",
       "      <td>[wikilinks]</td>\n",
       "    </tr>\n",
       "  </tbody>\n",
       "</table>\n",
       "</div>"
      ],
      "text/plain": [
       "                                                                     notes_to\n",
       "note_id                                                                      \n",
       "1 directional annotations                               [save quotes n lines]\n",
       "BEM naming convention                       [A Philosophy of Software Design]\n",
       "Create a site with mkdocs                                          [Obsidian]\n",
       "Hypothesis review                                         [annotate websites]\n",
       "Obsidian improvements                                              [Obsidian]\n",
       "Obsidian private comments   [Obsidian private comments-1673286147963.jpeg,...\n",
       "hashtag synonyms                                                  [wikilinks]\n",
       "interwikilinks plugin                                   [Wikipedia:Main Page]\n",
       "learn technical art                                    [goal driven learning]\n",
       "plugin ideas for Obsidian         [GitHub wikis in obsidian & interwikilinks]\n",
       "visualize your progress                                   [build a portfolio]\n",
       "wikilinks in code comments                                        [wikilinks]"
      ]
     },
     "execution_count": 10,
     "metadata": {},
     "output_type": "execute_result"
    }
   ],
   "source": [
    "# holdout_links_df"
   ]
  },
  {
   "cell_type": "code",
   "execution_count": null,
   "metadata": {},
   "outputs": [],
   "source": [
    "from src.metrics import recall_n"
   ]
  },
  {
   "cell_type": "code",
   "execution_count": null,
   "metadata": {},
   "outputs": [
    {
     "data": {
      "text/plain": [
       "0.25"
      ]
     },
     "execution_count": 13,
     "metadata": {},
     "output_type": "execute_result"
    }
   ],
   "source": [
    "recall_n(recs=recs, holdout_links=holdout_links_df, topn=10)"
   ]
  },
  {
   "attachments": {},
   "cell_type": "markdown",
   "metadata": {},
   "source": [
    "## Evaluate on different splittings"
   ]
  },
  {
   "cell_type": "code",
   "execution_count": 3,
   "metadata": {},
   "outputs": [
    {
     "name": "stderr",
     "output_type": "stream",
     "text": [
      "100%|██████████| 100/100 [00:02<00:00, 37.57it/s]\n"
     ]
    }
   ],
   "source": [
    "graph = vault.graph\n",
    "\n",
    "recall = []\n",
    "for _ in tqdm(range(100)):\n",
    "    train_graph, holdout_links = holdout(graph, seed=None, alpha=0.1)\n",
    "    sum([hl in train_graph.edges for hl in holdout_links])\n",
    "\n",
    "    holdout_nodes = [hl[0] for hl in holdout_links]\n",
    "    pairs = create_pairs_for_nodes(nodes=holdout_nodes, graph=train_graph)\n",
    "    scores = calculate_adamic_adar(graph=train_graph, pair_nodes=pairs).groupby('node_from').agg(lambda x: list(x))\n",
    "\n",
    "    recs = generate_recomendations(scores)\n",
    "\n",
    "    holdout_links_df = pd.DataFrame.from_records(holdout_links, columns=['note_id', 'notes_to', 'p']).groupby('note_id').agg(lambda x: list(x))[['notes_to']]\n",
    "\n",
    "    recall.append(recall_n(recs=recs, holdout_links=holdout_links_df, topn=5))"
   ]
  },
  {
   "cell_type": "code",
   "execution_count": 4,
   "metadata": {},
   "outputs": [
    {
     "data": {
      "text/plain": [
       "0.19869949494949496"
      ]
     },
     "execution_count": 4,
     "metadata": {},
     "output_type": "execute_result"
    }
   ],
   "source": [
    "np.mean(recall)"
   ]
  },
  {
   "cell_type": "code",
   "execution_count": 6,
   "metadata": {},
   "outputs": [
    {
     "data": {
      "text/plain": [
       "[0.05,\n",
       " 0.15384615384615385,\n",
       " 0.22727272727272727,\n",
       " 0.13333333333333333,\n",
       " 0.16666666666666666,\n",
       " 0.25,\n",
       " 0.16666666666666666,\n",
       " 0.3333333333333333,\n",
       " 0.25,\n",
       " 0.25,\n",
       " 0.3055555555555556,\n",
       " 0.15384615384615385,\n",
       " 0.23076923076923078,\n",
       " 0.09090909090909091,\n",
       " 0.16666666666666666,\n",
       " 0.3076923076923077,\n",
       " 0.0,\n",
       " 0.045454545454545456,\n",
       " 0.2727272727272727,\n",
       " 0.045454545454545456,\n",
       " 0.18181818181818182,\n",
       " 0.13636363636363635,\n",
       " 0.22727272727272727,\n",
       " 0.25,\n",
       " 0.2,\n",
       " 0.0,\n",
       " 0.08333333333333333,\n",
       " 0.3333333333333333,\n",
       " 0.3076923076923077,\n",
       " 0.2222222222222222,\n",
       " 0.3333333333333333,\n",
       " 0.09090909090909091,\n",
       " 0.18181818181818182,\n",
       " 0.25,\n",
       " 0.5,\n",
       " 0.18181818181818182,\n",
       " 0.08333333333333333,\n",
       " 0.3888888888888889,\n",
       " 0.125,\n",
       " 0.15384615384615385,\n",
       " 0.2727272727272727,\n",
       " 0.18181818181818182,\n",
       " 0.16666666666666666,\n",
       " 0.25,\n",
       " 0.20833333333333334,\n",
       " 0.3076923076923077,\n",
       " 0.08333333333333333,\n",
       " 0.2,\n",
       " 0.18181818181818182,\n",
       " 0.08333333333333333,\n",
       " 0.2,\n",
       " 0.3076923076923077,\n",
       " 0.36363636363636365,\n",
       " 0.23333333333333334,\n",
       " 0.3181818181818182,\n",
       " 0.22727272727272727,\n",
       " 0.13636363636363635,\n",
       " 0.05,\n",
       " 0.0,\n",
       " 0.1,\n",
       " 0.2333333333333333,\n",
       " 0.25,\n",
       " 0.2,\n",
       " 0.18181818181818182,\n",
       " 0.22727272727272727,\n",
       " 0.09090909090909091,\n",
       " 0.125,\n",
       " 0.4090909090909091,\n",
       " 0.2,\n",
       " 0.3,\n",
       " 0.16666666666666666,\n",
       " 0.36363636363636365,\n",
       " 0.2727272727272727,\n",
       " 0.13636363636363635,\n",
       " 0.08333333333333333,\n",
       " 0.09090909090909091,\n",
       " 0.16666666666666666,\n",
       " 0.13636363636363635,\n",
       " 0.041666666666666664,\n",
       " 0.375,\n",
       " 0.15,\n",
       " 0.36363636363636365,\n",
       " 0.2,\n",
       " 0.3181818181818182,\n",
       " 0.3333333333333333,\n",
       " 0.16666666666666666,\n",
       " 0.3,\n",
       " 0.08333333333333333,\n",
       " 0.2727272727272727,\n",
       " 0.25,\n",
       " 0.18181818181818182,\n",
       " 0.08333333333333333,\n",
       " 0.22727272727272727,\n",
       " 0.16666666666666666,\n",
       " 0.25,\n",
       " 0.09090909090909091,\n",
       " 0.07692307692307693,\n",
       " 0.45454545454545453,\n",
       " 0.05555555555555555,\n",
       " 0.09090909090909091]"
      ]
     },
     "execution_count": 6,
     "metadata": {},
     "output_type": "execute_result"
    }
   ],
   "source": [
    "recall"
   ]
  },
  {
   "cell_type": "code",
   "execution_count": 11,
   "metadata": {},
   "outputs": [
    {
     "data": {
      "image/png": "[encoded data removed]",
      "text/plain": [
       "<Figure size 640x480 with 1 Axes>"
      ]
     },
     "metadata": {},
     "output_type": "display_data"
    }
   ],
   "source": [
    "hist = pd.DataFrame(recall).hist(bins=5)"
   ]
  },
  {
   "cell_type": "code",
   "execution_count": null,
   "metadata": {},
   "outputs": [],
   "source": []
  }
 ],
 "metadata": {
  "kernelspec": {
   "display_name": ".rec_sys_proj_venv",
   "language": "python",
   "name": "python3"
  },
  "language_info": {
   "codemirror_mode": {
    "name": "ipython",
    "version": 3
   },
   "file_extension": ".py",
   "mimetype": "text/x-python",
   "name": "python",
   "nbconvert_exporter": "python",
   "pygments_lexer": "ipython3",
   "version": "3.9.16"
  },
  "orig_nbformat": 4
 },
 "nbformat": 4,
 "nbformat_minor": 2
}
