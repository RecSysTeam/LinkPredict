{
 "cells": [
  {
   "cell_type": "code",
   "execution_count": 1,
   "metadata": {},
   "outputs": [],
   "source": [
    "from src.data import extract_vault, holdout\n",
    "import matplotlib.pyplot as plt \n",
    "import networkx as nx\n",
    "import numpy as np\n",
    "from src.model_base import calculate_adamic_adar, create_pairs_for_nodes, generate_recomendations\n",
    "from tqdm import tqdm\n",
    "from copy import deepcopy"
   ]
  },
  {
   "attachments": {},
   "cell_type": "markdown",
   "metadata": {},
   "source": [
    "## Baseline prediction and scoring"
   ]
  },
  {
   "cell_type": "code",
   "execution_count": 2,
   "metadata": {},
   "outputs": [
    {
     "name": "stdout",
     "output_type": "stream",
     "text": [
      "<class 'pandas.core.frame.DataFrame'>\n",
      "Index: 135 entries, pure CSS content toggle study to placeholder-1671408403833.jpeg\n",
      "Data columns (total 9 columns):\n",
      " #   Column            Non-Null Count  Dtype         \n",
      "---  ------            --------------  -----         \n",
      " 0   rel_filepath      124 non-null    object        \n",
      " 1   abs_filepath      124 non-null    object        \n",
      " 2   file_exists       135 non-null    object        \n",
      " 3   n_backlinks       135 non-null    object        \n",
      " 4   n_wikilinks       114 non-null    float64       \n",
      " 5   n_tags            114 non-null    float64       \n",
      " 6   n_embedded_files  114 non-null    float64       \n",
      " 7   modified_time     124 non-null    datetime64[ns]\n",
      " 8   graph_category    135 non-null    object        \n",
      "dtypes: datetime64[ns](1), float64(3), object(5)\n",
      "memory usage: 10.5+ KB\n",
      "None\n"
     ]
    }
   ],
   "source": [
    "vault = extract_vault('./vaultes/brain/')"
   ]
  },
  {
   "cell_type": "code",
   "execution_count": 3,
   "metadata": {},
   "outputs": [
    {
     "data": {
      "text/plain": [
       "1"
      ]
     },
     "execution_count": 3,
     "metadata": {},
     "output_type": "execute_result"
    }
   ],
   "source": [
    "train_graph, holdout_links = holdout(vault.graph, seed=42, alpha=0.1)\n",
    "sum([hl in train_graph.edges for hl in holdout_links])"
   ]
  },
  {
   "cell_type": "code",
   "execution_count": 5,
   "metadata": {},
   "outputs": [
    {
     "name": "stdout",
     "output_type": "stream",
     "text": [
      "Hypothesis review\n",
      "learn technical art\n",
      "hashtag synonyms\n",
      "Obsidian improvements\n",
      "BEM naming convention\n",
      "1 directional annotations\n",
      "Obsidian private comments\n",
      "Obsidian private comments\n",
      "interwikilinks plugin\n",
      "wikilinks in code comments\n",
      "visualize your progress\n",
      "Create a site with mkdocs\n",
      "plugin ideas for Obsidian\n"
     ]
    }
   ],
   "source": [
    "for hl in holdout_links:\n",
    "    print(hl[0])"
   ]
  },
  {
   "cell_type": "code",
   "execution_count": 6,
   "metadata": {},
   "outputs": [],
   "source": [
    "holdout_nodes = [hl[0] for hl in holdout_links]\n",
    "pairs = create_pairs_for_nodes(nodes=holdout_nodes, graph=train_graph)\n",
    "scores = calculate_adamic_adar(graph=train_graph, pair_nodes=pairs).groupby('node_from').agg(lambda x: list(x))"
   ]
  },
  {
   "cell_type": "code",
   "execution_count": 7,
   "metadata": {},
   "outputs": [],
   "source": [
    "recs = generate_recomendations(scores)"
   ]
  },
  {
   "cell_type": "code",
   "execution_count": 8,
   "metadata": {},
   "outputs": [
    {
     "data": {
      "text/html": [
       "<div>\n",
       "<style scoped>\n",
       "    .dataframe tbody tr th:only-of-type {\n",
       "        vertical-align: middle;\n",
       "    }\n",
       "\n",
       "    .dataframe tbody tr th {\n",
       "        vertical-align: top;\n",
       "    }\n",
       "\n",
       "    .dataframe thead th {\n",
       "        text-align: right;\n",
       "    }\n",
       "</style>\n",
       "<table border=\"1\" class=\"dataframe\">\n",
       "  <thead>\n",
       "    <tr style=\"text-align: right;\">\n",
       "      <th></th>\n",
       "      <th>recomendations</th>\n",
       "    </tr>\n",
       "    <tr>\n",
       "      <th>note_id</th>\n",
       "      <th></th>\n",
       "    </tr>\n",
       "  </thead>\n",
       "  <tbody>\n",
       "    <tr>\n",
       "      <th>1 directional annotations</th>\n",
       "      <td>[add notes to explorer, Obsidian, Obsidian imp...</td>\n",
       "    </tr>\n",
       "    <tr>\n",
       "      <th>BEM naming convention</th>\n",
       "      <td>[CSS collapse heading, subsequent-sibling comb...</td>\n",
       "    </tr>\n",
       "    <tr>\n",
       "      <th>Create a site with mkdocs</th>\n",
       "      <td>[Component Object Model, Obsidian Web - Chrome...</td>\n",
       "    </tr>\n",
       "    <tr>\n",
       "      <th>Hypothesis review</th>\n",
       "      <td>[Obsidian, Obsidian private comments, add note...</td>\n",
       "    </tr>\n",
       "    <tr>\n",
       "      <th>Obsidian improvements</th>\n",
       "      <td>[plugin ideas for Obsidian, Obsidian, 1 direct...</td>\n",
       "    </tr>\n",
       "    <tr>\n",
       "      <th>Obsidian private comments</th>\n",
       "      <td>[add notes to explorer, add notes to explorer,...</td>\n",
       "    </tr>\n",
       "    <tr>\n",
       "      <th>hashtag synonyms</th>\n",
       "      <td>[redirect for notes, setup Obsidian Git, Obsid...</td>\n",
       "    </tr>\n",
       "    <tr>\n",
       "      <th>interwikilinks plugin</th>\n",
       "      <td>[wikilinks, obsidian web integration, Obsidian...</td>\n",
       "    </tr>\n",
       "    <tr>\n",
       "      <th>learn technical art</th>\n",
       "      <td>[build a portfolio, TA brings value to the tea...</td>\n",
       "    </tr>\n",
       "    <tr>\n",
       "      <th>plugin ideas for Obsidian</th>\n",
       "      <td>[Obsidian, Obsidian improvements, wikilinks, 1...</td>\n",
       "    </tr>\n",
       "    <tr>\n",
       "      <th>visualize your progress</th>\n",
       "      <td>[bring value ASAP, learn 3d, learn 2d, apply n...</td>\n",
       "    </tr>\n",
       "    <tr>\n",
       "      <th>wikilinks in code comments</th>\n",
       "      <td>[Component Object Model, Obsidian Web - Chrome...</td>\n",
       "    </tr>\n",
       "  </tbody>\n",
       "</table>\n",
       "</div>"
      ],
      "text/plain": [
       "                                                               recomendations\n",
       "note_id                                                                      \n",
       "1 directional annotations   [add notes to explorer, Obsidian, Obsidian imp...\n",
       "BEM naming convention       [CSS collapse heading, subsequent-sibling comb...\n",
       "Create a site with mkdocs   [Component Object Model, Obsidian Web - Chrome...\n",
       "Hypothesis review           [Obsidian, Obsidian private comments, add note...\n",
       "Obsidian improvements       [plugin ideas for Obsidian, Obsidian, 1 direct...\n",
       "Obsidian private comments   [add notes to explorer, add notes to explorer,...\n",
       "hashtag synonyms            [redirect for notes, setup Obsidian Git, Obsid...\n",
       "interwikilinks plugin       [wikilinks, obsidian web integration, Obsidian...\n",
       "learn technical art         [build a portfolio, TA brings value to the tea...\n",
       "plugin ideas for Obsidian   [Obsidian, Obsidian improvements, wikilinks, 1...\n",
       "visualize your progress     [bring value ASAP, learn 3d, learn 2d, apply n...\n",
       "wikilinks in code comments  [Component Object Model, Obsidian Web - Chrome..."
      ]
     },
     "execution_count": 8,
     "metadata": {},
     "output_type": "execute_result"
    }
   ],
   "source": [
    "recs"
   ]
  },
  {
   "cell_type": "code",
   "execution_count": 9,
   "metadata": {},
   "outputs": [],
   "source": [
    "import pandas as pd\n",
    "holdout_links_df = pd.DataFrame.from_records(holdout_links, columns=['note_id', 'notes_to', 'p']).groupby('note_id').agg(lambda x: list(x))[['notes_to']]"
   ]
  },
  {
   "cell_type": "code",
   "execution_count": 10,
   "metadata": {},
   "outputs": [
    {
     "data": {
      "text/html": [
       "<div>\n",
       "<style scoped>\n",
       "    .dataframe tbody tr th:only-of-type {\n",
       "        vertical-align: middle;\n",
       "    }\n",
       "\n",
       "    .dataframe tbody tr th {\n",
       "        vertical-align: top;\n",
       "    }\n",
       "\n",
       "    .dataframe thead th {\n",
       "        text-align: right;\n",
       "    }\n",
       "</style>\n",
       "<table border=\"1\" class=\"dataframe\">\n",
       "  <thead>\n",
       "    <tr style=\"text-align: right;\">\n",
       "      <th></th>\n",
       "      <th>notes_to</th>\n",
       "    </tr>\n",
       "    <tr>\n",
       "      <th>note_id</th>\n",
       "      <th></th>\n",
       "    </tr>\n",
       "  </thead>\n",
       "  <tbody>\n",
       "    <tr>\n",
       "      <th>1 directional annotations</th>\n",
       "      <td>[save quotes n lines]</td>\n",
       "    </tr>\n",
       "    <tr>\n",
       "      <th>BEM naming convention</th>\n",
       "      <td>[A Philosophy of Software Design]</td>\n",
       "    </tr>\n",
       "    <tr>\n",
       "      <th>Create a site with mkdocs</th>\n",
       "      <td>[Obsidian]</td>\n",
       "    </tr>\n",
       "    <tr>\n",
       "      <th>Hypothesis review</th>\n",
       "      <td>[annotate websites]</td>\n",
       "    </tr>\n",
       "    <tr>\n",
       "      <th>Obsidian improvements</th>\n",
       "      <td>[Obsidian]</td>\n",
       "    </tr>\n",
       "    <tr>\n",
       "      <th>Obsidian private comments</th>\n",
       "      <td>[Obsidian private comments-1673286147963.jpeg,...</td>\n",
       "    </tr>\n",
       "    <tr>\n",
       "      <th>hashtag synonyms</th>\n",
       "      <td>[wikilinks]</td>\n",
       "    </tr>\n",
       "    <tr>\n",
       "      <th>interwikilinks plugin</th>\n",
       "      <td>[Wikipedia:Main Page]</td>\n",
       "    </tr>\n",
       "    <tr>\n",
       "      <th>learn technical art</th>\n",
       "      <td>[goal driven learning]</td>\n",
       "    </tr>\n",
       "    <tr>\n",
       "      <th>plugin ideas for Obsidian</th>\n",
       "      <td>[GitHub wikis in obsidian &amp; interwikilinks]</td>\n",
       "    </tr>\n",
       "    <tr>\n",
       "      <th>visualize your progress</th>\n",
       "      <td>[build a portfolio]</td>\n",
       "    </tr>\n",
       "    <tr>\n",
       "      <th>wikilinks in code comments</th>\n",
       "      <td>[wikilinks]</td>\n",
       "    </tr>\n",
       "  </tbody>\n",
       "</table>\n",
       "</div>"
      ],
      "text/plain": [
       "                                                                     notes_to\n",
       "note_id                                                                      \n",
       "1 directional annotations                               [save quotes n lines]\n",
       "BEM naming convention                       [A Philosophy of Software Design]\n",
       "Create a site with mkdocs                                          [Obsidian]\n",
       "Hypothesis review                                         [annotate websites]\n",
       "Obsidian improvements                                              [Obsidian]\n",
       "Obsidian private comments   [Obsidian private comments-1673286147963.jpeg,...\n",
       "hashtag synonyms                                                  [wikilinks]\n",
       "interwikilinks plugin                                   [Wikipedia:Main Page]\n",
       "learn technical art                                    [goal driven learning]\n",
       "plugin ideas for Obsidian         [GitHub wikis in obsidian & interwikilinks]\n",
       "visualize your progress                                   [build a portfolio]\n",
       "wikilinks in code comments                                        [wikilinks]"
      ]
     },
     "execution_count": 10,
     "metadata": {},
     "output_type": "execute_result"
    }
   ],
   "source": [
    "holdout_links_df"
   ]
  },
  {
   "cell_type": "code",
   "execution_count": 11,
   "metadata": {},
   "outputs": [],
   "source": [
    "from src.metrics import recall_n"
   ]
  },
  {
   "cell_type": "code",
   "execution_count": 13,
   "metadata": {},
   "outputs": [
    {
     "data": {
      "text/plain": [
       "0.25"
      ]
     },
     "execution_count": 13,
     "metadata": {},
     "output_type": "execute_result"
    }
   ],
   "source": [
    "recall_n(recs=recs, holdout_links=holdout_links_df, topn=10)"
   ]
  },
  {
   "attachments": {},
   "cell_type": "markdown",
   "metadata": {},
   "source": [
    "## Evaluate on different splittings"
   ]
  },
  {
   "cell_type": "code",
   "execution_count": null,
   "metadata": {},
   "outputs": [],
   "source": [
    "graph = vault.graph\n",
    "\n",
    "recall = []\n",
    "for _ in tqdm(range(100))\n",
    "    train_graph, holdout_links = holdout(graph, seed=None, alpha=0.1)\n",
    "    sum([hl in train_graph.edges for hl in holdout_links])\n",
    "\n",
    "    holdout_nodes = [hl[0] for hl in holdout_links]\n",
    "    pairs = create_pairs_for_nodes(nodes=holdout_nodes, graph=train_graph)\n",
    "    scores = calculate_adamic_adar(graph=train_graph, pair_nodes=pairs).groupby('node_from').agg(lambda x: list(x))\n",
    "\n",
    "    recs = generate_recomendations(scores)\n",
    "\n",
    "    holdout_links_df = pd.DataFrame.from_records(holdout_links, columns=['note_id', 'notes_to', 'p']).groupby('note_id').agg(lambda x: list(x))[['notes_to']]\n",
    "\n",
    "    recall.append(recall_n(recs=recs, holdout_links=holdout_links_df, topn=5))"
   ]
  }
 ],
 "metadata": {
  "kernelspec": {
   "display_name": ".rec_sys_proj_venv",
   "language": "python",
   "name": "python3"
  },
  "language_info": {
   "codemirror_mode": {
    "name": "ipython",
    "version": 3
   },
   "file_extension": ".py",
   "mimetype": "text/x-python",
   "name": "python",
   "nbconvert_exporter": "python",
   "pygments_lexer": "ipython3",
   "version": "3.9.16"
  },
  "orig_nbformat": 4
 },
 "nbformat": 4,
 "nbformat_minor": 2
}
