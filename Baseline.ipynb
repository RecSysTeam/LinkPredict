{
 "cells": [
  {
   "cell_type": "code",
   "execution_count": 1,
   "metadata": {},
   "outputs": [],
   "source": [
    "from src.data import extract_vault, holdout\n",
    "import matplotlib.pyplot as plt \n",
    "import networkx as nx\n",
    "import numpy as np"
   ]
  },
  {
   "cell_type": "code",
   "execution_count": 2,
   "metadata": {},
   "outputs": [
    {
     "name": "stdout",
     "output_type": "stream",
     "text": [
      "<class 'pandas.core.frame.DataFrame'>\n",
      "Index: 135 entries, Hypothesis review to placeholder-1671408403833.jpeg\n",
      "Data columns (total 9 columns):\n",
      " #   Column            Non-Null Count  Dtype         \n",
      "---  ------            --------------  -----         \n",
      " 0   rel_filepath      124 non-null    object        \n",
      " 1   abs_filepath      124 non-null    object        \n",
      " 2   file_exists       135 non-null    object        \n",
      " 3   n_backlinks       135 non-null    object        \n",
      " 4   n_wikilinks       114 non-null    float64       \n",
      " 5   n_tags            114 non-null    float64       \n",
      " 6   n_embedded_files  114 non-null    float64       \n",
      " 7   modified_time     124 non-null    datetime64[ns]\n",
      " 8   graph_category    135 non-null    object        \n",
      "dtypes: datetime64[ns](1), float64(3), object(5)\n",
      "memory usage: 10.5+ KB\n",
      "None\n"
     ]
    }
   ],
   "source": [
    "vault = extract_vault('./vaultes/brain/')"
   ]
  },
  {
   "cell_type": "code",
   "execution_count": 3,
   "metadata": {},
   "outputs": [],
   "source": [
    "train_graph, holdout_links = holdout(vault.graph)"
   ]
  },
  {
   "cell_type": "code",
   "execution_count": 6,
   "metadata": {},
   "outputs": [],
   "source": [
    "from src.model_base import calculate_adamic_adar, create_pairs_for_nodes"
   ]
  },
  {
   "cell_type": "code",
   "execution_count": 5,
   "metadata": {},
   "outputs": [
    {
     "data": {
      "text/plain": [
       "[('Obsidian special formatting', 'Obsidian', 0),\n",
       " ('Problems in the industry', 'Pyblish', 0),\n",
       " ('Obsidian improvements', 'navigate sibling page', 0),\n",
       " ('hashtag synonyms', 'Tags can help with new insights', 0),\n",
       " ('plugin ideas for Obsidian', 'GitHub wikis in obsidian & interwikilinks', 0),\n",
       " ('plugin ideas for Obsidian', '1 directional annotations', 0),\n",
       " ('Obsidian Tabber', 'Obsidian Tabber-1674600128447.jpeg', 0),\n",
       " ('learn technical art', 'learn 3d', 0),\n",
       " ('learn technical art', 'build a portfolio', 0),\n",
       " ('Hypothesis review', 'original - Blender 3.4 Python API Docs', 0),\n",
       " ('Hypothesis review', 'wikilinks', 0),\n",
       " ('note-link-janitor', 'wikilinks', 0),\n",
       " ('Goal driven learning', 'apply new knowledge', 0)]"
      ]
     },
     "execution_count": 5,
     "metadata": {},
     "output_type": "execute_result"
    }
   ],
   "source": [
    "holdout_links"
   ]
  },
  {
   "cell_type": "code",
   "execution_count": null,
   "metadata": {},
   "outputs": [],
   "source": [
    "pairs = create_pairs_for_nodes(nodes=holdout_links, graph=train_graph)"
   ]
  }
 ],
 "metadata": {
  "kernelspec": {
   "display_name": ".rec_sys_proj_venv",
   "language": "python",
   "name": "python3"
  },
  "language_info": {
   "codemirror_mode": {
    "name": "ipython",
    "version": 3
   },
   "file_extension": ".py",
   "mimetype": "text/x-python",
   "name": "python",
   "nbconvert_exporter": "python",
   "pygments_lexer": "ipython3",
   "version": "3.9.16"
  },
  "orig_nbformat": 4
 },
 "nbformat": 4,
 "nbformat_minor": 2
}
