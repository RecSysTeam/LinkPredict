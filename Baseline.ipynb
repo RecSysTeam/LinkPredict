{
 "cells": [
  {
   "cell_type": "code",
   "execution_count": 1,
   "metadata": {},
   "outputs": [],
   "source": [
    "from src.data import extract_vault, holdout\n",
    "import matplotlib.pyplot as plt \n",
    "import networkx as nx\n",
    "import numpy as np"
   ]
  },
  {
   "cell_type": "code",
   "execution_count": 2,
   "metadata": {},
   "outputs": [
    {
     "name": "stdout",
     "output_type": "stream",
     "text": [
      "<class 'pandas.core.frame.DataFrame'>\n",
      "Index: 135 entries, blueprint python to placeholder-1671408403833.jpeg\n",
      "Data columns (total 9 columns):\n",
      " #   Column            Non-Null Count  Dtype         \n",
      "---  ------            --------------  -----         \n",
      " 0   rel_filepath      124 non-null    object        \n",
      " 1   abs_filepath      124 non-null    object        \n",
      " 2   file_exists       135 non-null    object        \n",
      " 3   n_backlinks       135 non-null    object        \n",
      " 4   n_wikilinks       114 non-null    float64       \n",
      " 5   n_tags            114 non-null    float64       \n",
      " 6   n_embedded_files  114 non-null    float64       \n",
      " 7   modified_time     124 non-null    datetime64[ns]\n",
      " 8   graph_category    135 non-null    object        \n",
      "dtypes: datetime64[ns](1), float64(3), object(5)\n",
      "memory usage: 10.5+ KB\n",
      "None\n"
     ]
    }
   ],
   "source": [
    "vault = extract_vault('./vaultes/brain/')"
   ]
  },
  {
   "cell_type": "code",
   "execution_count": 3,
   "metadata": {},
   "outputs": [
    {
     "data": {
      "text/plain": [
       "0"
      ]
     },
     "execution_count": 3,
     "metadata": {},
     "output_type": "execute_result"
    }
   ],
   "source": [
    "train_graph, holdout_links = holdout(vault.graph, seed=42, alpha=0.2)\n",
    "sum([hl in train_graph.edges for hl in holdout_links])"
   ]
  },
  {
   "cell_type": "code",
   "execution_count": 4,
   "metadata": {},
   "outputs": [],
   "source": [
    "from src.model_base import calculate_adamic_adar, create_pairs_for_nodes, generate_recomendations"
   ]
  },
  {
   "cell_type": "code",
   "execution_count": 5,
   "metadata": {},
   "outputs": [
    {
     "name": "stdout",
     "output_type": "stream",
     "text": [
      "hashtag synonyms\n",
      "plugin ideas for Obsidian\n",
      "Intro to Obsidian\n",
      "1 directional annotations\n",
      "winget preset idea\n",
      "Hypothesis review\n",
      "github wikis in obsidian & interwikilinks\n",
      "github wikis in obsidian & interwikilinks\n",
      "build a portfolio\n",
      "Obsidian improvements\n",
      "Art of giving feedback\n",
      "learn technical art\n",
      "learn technical art\n"
     ]
    }
   ],
   "source": [
    "for hl in holdout_links:\n",
    "    print(hl[0])"
   ]
  },
  {
   "cell_type": "code",
   "execution_count": 6,
   "metadata": {},
   "outputs": [],
   "source": [
    "holdout_nodes = [hl[0] for hl in holdout_links]\n",
    "pairs = create_pairs_for_nodes(nodes=holdout_nodes, graph=train_graph)\n",
    "scores = calculate_adamic_adar(graph=train_graph, pair_nodes=pairs).groupby('node_from').agg(lambda x: list(x))"
   ]
  },
  {
   "cell_type": "code",
   "execution_count": 7,
   "metadata": {},
   "outputs": [],
   "source": [
    "recs = generate_recomendations(scores)"
   ]
  },
  {
   "cell_type": "code",
   "execution_count": 8,
   "metadata": {},
   "outputs": [
    {
     "data": {
      "text/html": [
       "<div>\n",
       "<style scoped>\n",
       "    .dataframe tbody tr th:only-of-type {\n",
       "        vertical-align: middle;\n",
       "    }\n",
       "\n",
       "    .dataframe tbody tr th {\n",
       "        vertical-align: top;\n",
       "    }\n",
       "\n",
       "    .dataframe thead th {\n",
       "        text-align: right;\n",
       "    }\n",
       "</style>\n",
       "<table border=\"1\" class=\"dataframe\">\n",
       "  <thead>\n",
       "    <tr style=\"text-align: right;\">\n",
       "      <th></th>\n",
       "      <th>recomendations</th>\n",
       "    </tr>\n",
       "    <tr>\n",
       "      <th>note_id</th>\n",
       "      <th></th>\n",
       "    </tr>\n",
       "  </thead>\n",
       "  <tbody>\n",
       "    <tr>\n",
       "      <th>1 directional annotations</th>\n",
       "      <td>[add notes to explorer, bash on windows, Obsid...</td>\n",
       "    </tr>\n",
       "    <tr>\n",
       "      <th>Art of giving feedback</th>\n",
       "      <td>[blueprint python, Obsidian Web - Chrome exten...</td>\n",
       "    </tr>\n",
       "    <tr>\n",
       "      <th>Hypothesis review</th>\n",
       "      <td>[Obsidian, add notes to explorer, Obsidian pri...</td>\n",
       "    </tr>\n",
       "    <tr>\n",
       "      <th>Intro to Obsidian</th>\n",
       "      <td>[Obsidian, Obsidian backup, Obsidian special f...</td>\n",
       "    </tr>\n",
       "    <tr>\n",
       "      <th>Obsidian improvements</th>\n",
       "      <td>[plugin ideas for Obsidian, winget, Obsidian, ...</td>\n",
       "    </tr>\n",
       "    <tr>\n",
       "      <th>build a portfolio</th>\n",
       "      <td>[learn technical art, Goal driven learning, de...</td>\n",
       "    </tr>\n",
       "    <tr>\n",
       "      <th>github wikis in obsidian &amp; interwikilinks</th>\n",
       "      <td>[blueprint python, Obsidian Web - Chrome exten...</td>\n",
       "    </tr>\n",
       "    <tr>\n",
       "      <th>hashtag synonyms</th>\n",
       "      <td>[redirect for notes, sliding panes, winget, ad...</td>\n",
       "    </tr>\n",
       "    <tr>\n",
       "      <th>learn technical art</th>\n",
       "      <td>[TA brings value to the team, Goal driven lear...</td>\n",
       "    </tr>\n",
       "    <tr>\n",
       "      <th>plugin ideas for Obsidian</th>\n",
       "      <td>[Obsidian improvements, Obsidian, wikilinks, 1...</td>\n",
       "    </tr>\n",
       "    <tr>\n",
       "      <th>winget preset idea</th>\n",
       "      <td>[toggle code in Obsidian, Obsidian, Barrier, i...</td>\n",
       "    </tr>\n",
       "  </tbody>\n",
       "</table>\n",
       "</div>"
      ],
      "text/plain": [
       "                                                                              recomendations\n",
       "note_id                                                                                     \n",
       "1 directional annotations                  [add notes to explorer, bash on windows, Obsid...\n",
       "Art of giving feedback                     [blueprint python, Obsidian Web - Chrome exten...\n",
       "Hypothesis review                          [Obsidian, add notes to explorer, Obsidian pri...\n",
       "Intro to Obsidian                          [Obsidian, Obsidian backup, Obsidian special f...\n",
       "Obsidian improvements                      [plugin ideas for Obsidian, winget, Obsidian, ...\n",
       "build a portfolio                          [learn technical art, Goal driven learning, de...\n",
       "github wikis in obsidian & interwikilinks  [blueprint python, Obsidian Web - Chrome exten...\n",
       "hashtag synonyms                           [redirect for notes, sliding panes, winget, ad...\n",
       "learn technical art                        [TA brings value to the team, Goal driven lear...\n",
       "plugin ideas for Obsidian                  [Obsidian improvements, Obsidian, wikilinks, 1...\n",
       "winget preset idea                         [toggle code in Obsidian, Obsidian, Barrier, i..."
      ]
     },
     "execution_count": 8,
     "metadata": {},
     "output_type": "execute_result"
    }
   ],
   "source": [
    "recs"
   ]
  },
  {
   "cell_type": "code",
   "execution_count": 9,
   "metadata": {},
   "outputs": [],
   "source": [
    "import pandas as pd\n",
    "holdout_links_df = pd.DataFrame.from_records(holdout_links, columns=['note_id', 'notes_to', 'p']).groupby('note_id').agg(lambda x: list(x))[['notes_to']]"
   ]
  },
  {
   "cell_type": "code",
   "execution_count": 10,
   "metadata": {},
   "outputs": [
    {
     "data": {
      "text/html": [
       "<div>\n",
       "<style scoped>\n",
       "    .dataframe tbody tr th:only-of-type {\n",
       "        vertical-align: middle;\n",
       "    }\n",
       "\n",
       "    .dataframe tbody tr th {\n",
       "        vertical-align: top;\n",
       "    }\n",
       "\n",
       "    .dataframe thead th {\n",
       "        text-align: right;\n",
       "    }\n",
       "</style>\n",
       "<table border=\"1\" class=\"dataframe\">\n",
       "  <thead>\n",
       "    <tr style=\"text-align: right;\">\n",
       "      <th></th>\n",
       "      <th>notes_to</th>\n",
       "    </tr>\n",
       "    <tr>\n",
       "      <th>note_id</th>\n",
       "      <th></th>\n",
       "    </tr>\n",
       "  </thead>\n",
       "  <tbody>\n",
       "    <tr>\n",
       "      <th>1 directional annotations</th>\n",
       "      <td>[save quotes n lines]</td>\n",
       "    </tr>\n",
       "    <tr>\n",
       "      <th>Art of giving feedback</th>\n",
       "      <td>[gallup survey]</td>\n",
       "    </tr>\n",
       "    <tr>\n",
       "      <th>Hypothesis review</th>\n",
       "      <td>[Obsidian]</td>\n",
       "    </tr>\n",
       "    <tr>\n",
       "      <th>Intro to Obsidian</th>\n",
       "      <td>[Obsidian]</td>\n",
       "    </tr>\n",
       "    <tr>\n",
       "      <th>Obsidian improvements</th>\n",
       "      <td>[Obsidian submodule]</td>\n",
       "    </tr>\n",
       "    <tr>\n",
       "      <th>build a portfolio</th>\n",
       "      <td>[generalist vs specialist in Indie vs AAA]</td>\n",
       "    </tr>\n",
       "    <tr>\n",
       "      <th>github wikis in obsidian &amp; interwikilinks</th>\n",
       "      <td>[interwikilinks plugin, wikilinks]</td>\n",
       "    </tr>\n",
       "    <tr>\n",
       "      <th>hashtag synonyms</th>\n",
       "      <td>[wikilinks]</td>\n",
       "    </tr>\n",
       "    <tr>\n",
       "      <th>learn technical art</th>\n",
       "      <td>[learn 2d, visualize your progress]</td>\n",
       "    </tr>\n",
       "    <tr>\n",
       "      <th>plugin ideas for Obsidian</th>\n",
       "      <td>[1 directional annotations]</td>\n",
       "    </tr>\n",
       "    <tr>\n",
       "      <th>winget preset idea</th>\n",
       "      <td>[Chrome remembers extensions]</td>\n",
       "    </tr>\n",
       "  </tbody>\n",
       "</table>\n",
       "</div>"
      ],
      "text/plain": [
       "                                                                             notes_to\n",
       "note_id                                                                              \n",
       "1 directional annotations                                       [save quotes n lines]\n",
       "Art of giving feedback                                                [gallup survey]\n",
       "Hypothesis review                                                          [Obsidian]\n",
       "Intro to Obsidian                                                          [Obsidian]\n",
       "Obsidian improvements                                            [Obsidian submodule]\n",
       "build a portfolio                          [generalist vs specialist in Indie vs AAA]\n",
       "github wikis in obsidian & interwikilinks          [interwikilinks plugin, wikilinks]\n",
       "hashtag synonyms                                                          [wikilinks]\n",
       "learn technical art                               [learn 2d, visualize your progress]\n",
       "plugin ideas for Obsidian                                 [1 directional annotations]\n",
       "winget preset idea                                      [Chrome remembers extensions]"
      ]
     },
     "execution_count": 10,
     "metadata": {},
     "output_type": "execute_result"
    }
   ],
   "source": [
    "holdout_links_df"
   ]
  },
  {
   "cell_type": "code",
   "execution_count": 11,
   "metadata": {},
   "outputs": [],
   "source": [
    "from src.metrics import recall_n"
   ]
  },
  {
   "cell_type": "code",
   "execution_count": 13,
   "metadata": {},
   "outputs": [
    {
     "data": {
      "text/plain": [
       "0.5"
      ]
     },
     "execution_count": 13,
     "metadata": {},
     "output_type": "execute_result"
    }
   ],
   "source": [
    "recall_n(recs=recs, holdout_links=holdout_links_df, topn=10)"
   ]
  },
  {
   "cell_type": "code",
   "execution_count": null,
   "metadata": {},
   "outputs": [],
   "source": []
  }
 ],
 "metadata": {
  "kernelspec": {
   "display_name": ".rec_sys_proj_venv",
   "language": "python",
   "name": "python3"
  },
  "language_info": {
   "codemirror_mode": {
    "name": "ipython",
    "version": 3
   },
   "file_extension": ".py",
   "mimetype": "text/x-python",
   "name": "python",
   "nbconvert_exporter": "python",
   "pygments_lexer": "ipython3",
   "version": "3.9.16"
  },
  "orig_nbformat": 4
 },
 "nbformat": 4,
 "nbformat_minor": 2
}
