{
 "cells": [
  {
   "cell_type": "code",
   "execution_count": 1,
   "id": "1e587cbc",
   "metadata": {},
   "outputs": [],
   "source": [
    "from src.data import extract_vault, holdout, delete_nodes_without_links\n",
    "import matplotlib.pyplot as plt \n",
    "import networkx as nx\n",
    "\n",
    "import markdown as md\n",
    "from bs4 import BeautifulSoup\n",
    "import PyPDF2\n",
    "\n",
    "import io\n",
    "from PIL import Image\n",
    "import numpy as np\n",
    "\n",
    "import torch\n",
    "from transformers import BertTokenizer, BertModel, VisionEncoderDecoderModel, ViTImageProcessor, AutoTokenizer\n",
    "\n",
    "from tqdm.notebook import tqdm\n",
    "import pickle\n",
    "\n",
    "from scipy import sparse\n",
    "import pandas as pd\n",
    "\n",
    "import ssl\n",
    "ssl._create_default_https_context = ssl._create_unverified_context"
   ]
  },
  {
   "cell_type": "code",
   "execution_count": 2,
   "id": "2a7dbcce",
   "metadata": {},
   "outputs": [
    {
     "name": "stdout",
     "output_type": "stream",
     "text": [
      "<class 'pandas.core.frame.DataFrame'>\n",
      "Index: 135 entries, GitHub wikis in obsidian & interwikilinks to placeholder-1671408403833.jpeg\n",
      "Data columns (total 9 columns):\n",
      " #   Column            Non-Null Count  Dtype         \n",
      "---  ------            --------------  -----         \n",
      " 0   rel_filepath      124 non-null    object        \n",
      " 1   abs_filepath      124 non-null    object        \n",
      " 2   file_exists       135 non-null    object        \n",
      " 3   n_backlinks       135 non-null    object        \n",
      " 4   n_wikilinks       114 non-null    float64       \n",
      " 5   n_tags            114 non-null    float64       \n",
      " 6   n_embedded_files  114 non-null    float64       \n",
      " 7   modified_time     124 non-null    datetime64[ns]\n",
      " 8   graph_category    135 non-null    object        \n",
      "dtypes: datetime64[ns](1), float64(3), object(5)\n",
      "memory usage: 10.5+ KB\n",
      "None\n"
     ]
    }
   ],
   "source": [
    "# vault = extract_vault('./vaultes/obsidian-hub/')\n",
    "vault = extract_vault('./vaultes/brain/')"
   ]
  },
  {
   "cell_type": "code",
   "execution_count": 3,
   "id": "f2673966",
   "metadata": {},
   "outputs": [
    {
     "data": {
      "text/html": [
       "<div>\n",
       "<style scoped>\n",
       "    .dataframe tbody tr th:only-of-type {\n",
       "        vertical-align: middle;\n",
       "    }\n",
       "\n",
       "    .dataframe tbody tr th {\n",
       "        vertical-align: top;\n",
       "    }\n",
       "\n",
       "    .dataframe thead th {\n",
       "        text-align: right;\n",
       "    }\n",
       "</style>\n",
       "<table border=\"1\" class=\"dataframe\">\n",
       "  <thead>\n",
       "    <tr style=\"text-align: right;\">\n",
       "      <th></th>\n",
       "      <th>rel_filepath</th>\n",
       "      <th>abs_filepath</th>\n",
       "      <th>file_exists</th>\n",
       "      <th>n_backlinks</th>\n",
       "      <th>n_wikilinks</th>\n",
       "      <th>n_tags</th>\n",
       "      <th>n_embedded_files</th>\n",
       "      <th>modified_time</th>\n",
       "      <th>graph_category</th>\n",
       "    </tr>\n",
       "    <tr>\n",
       "      <th>file</th>\n",
       "      <th></th>\n",
       "      <th></th>\n",
       "      <th></th>\n",
       "      <th></th>\n",
       "      <th></th>\n",
       "      <th></th>\n",
       "      <th></th>\n",
       "      <th></th>\n",
       "      <th></th>\n",
       "    </tr>\n",
       "  </thead>\n",
       "  <tbody>\n",
       "    <tr>\n",
       "      <th>GitHub wikis in obsidian &amp; interwikilinks</th>\n",
       "      <td>NaN</td>\n",
       "      <td>NaN</td>\n",
       "      <td>False</td>\n",
       "      <td>1</td>\n",
       "      <td>NaN</td>\n",
       "      <td>NaN</td>\n",
       "      <td>NaN</td>\n",
       "      <td>NaT</td>\n",
       "      <td>nonexistent</td>\n",
       "    </tr>\n",
       "    <tr>\n",
       "      <th>MultiMarkdown</th>\n",
       "      <td>varia/MultiMarkdown.md</td>\n",
       "      <td>vaultes/brain/varia/MultiMarkdown.md</td>\n",
       "      <td>True</td>\n",
       "      <td>0</td>\n",
       "      <td>0.0</td>\n",
       "      <td>1.0</td>\n",
       "      <td>0.0</td>\n",
       "      <td>2023-03-23 17:03:45.743535995</td>\n",
       "      <td>note</td>\n",
       "    </tr>\n",
       "    <tr>\n",
       "      <th>bring value ASAP</th>\n",
       "      <td>tech art/learn/bring value ASAP.md</td>\n",
       "      <td>vaultes/brain/tech art/learn/bring value ASAP.md</td>\n",
       "      <td>True</td>\n",
       "      <td>1</td>\n",
       "      <td>0.0</td>\n",
       "      <td>1.0</td>\n",
       "      <td>0.0</td>\n",
       "      <td>2023-03-23 17:03:45.741283655</td>\n",
       "      <td>note</td>\n",
       "    </tr>\n",
       "    <tr>\n",
       "      <th>blueprint python</th>\n",
       "      <td>unreal/blueprint python.md</td>\n",
       "      <td>vaultes/brain/unreal/blueprint python.md</td>\n",
       "      <td>True</td>\n",
       "      <td>0</td>\n",
       "      <td>0.0</td>\n",
       "      <td>1.0</td>\n",
       "      <td>0.0</td>\n",
       "      <td>2023-03-23 17:03:45.743141890</td>\n",
       "      <td>note</td>\n",
       "    </tr>\n",
       "    <tr>\n",
       "      <th>install apps winget</th>\n",
       "      <td>varia/install apps winget.md</td>\n",
       "      <td>vaultes/brain/varia/install apps winget.md</td>\n",
       "      <td>True</td>\n",
       "      <td>0</td>\n",
       "      <td>0.0</td>\n",
       "      <td>1.0</td>\n",
       "      <td>0.0</td>\n",
       "      <td>2023-03-23 17:03:45.744144678</td>\n",
       "      <td>note</td>\n",
       "    </tr>\n",
       "    <tr>\n",
       "      <th>...</th>\n",
       "      <td>...</td>\n",
       "      <td>...</td>\n",
       "      <td>...</td>\n",
       "      <td>...</td>\n",
       "      <td>...</td>\n",
       "      <td>...</td>\n",
       "      <td>...</td>\n",
       "      <td>...</td>\n",
       "      <td>...</td>\n",
       "    </tr>\n",
       "    <tr>\n",
       "      <th>Obsidian private comments-1673286147963.jpeg</th>\n",
       "      <td>image/Obsidian private comments-1673286147963....</td>\n",
       "      <td>vaultes/brain/image/Obsidian private comments-...</td>\n",
       "      <td>True</td>\n",
       "      <td>1</td>\n",
       "      <td>NaN</td>\n",
       "      <td>NaN</td>\n",
       "      <td>NaN</td>\n",
       "      <td>2023-03-23 17:03:45.735747337</td>\n",
       "      <td>attachment</td>\n",
       "    </tr>\n",
       "    <tr>\n",
       "      <th>add notes to explorer-1673900509482.jpeg</th>\n",
       "      <td>image/add notes to explorer-1673900509482.jpeg</td>\n",
       "      <td>vaultes/brain/image/add notes to explorer-1673...</td>\n",
       "      <td>True</td>\n",
       "      <td>1</td>\n",
       "      <td>NaN</td>\n",
       "      <td>NaN</td>\n",
       "      <td>NaN</td>\n",
       "      <td>2023-03-23 17:03:45.735861540</td>\n",
       "      <td>attachment</td>\n",
       "    </tr>\n",
       "    <tr>\n",
       "      <th>navigate sibling page-1674170180221.jpeg</th>\n",
       "      <td>image/navigate sibling page-1674170180221.jpeg</td>\n",
       "      <td>vaultes/brain/image/navigate sibling page-1674...</td>\n",
       "      <td>True</td>\n",
       "      <td>1</td>\n",
       "      <td>NaN</td>\n",
       "      <td>NaN</td>\n",
       "      <td>NaN</td>\n",
       "      <td>2023-03-23 17:03:45.736437798</td>\n",
       "      <td>attachment</td>\n",
       "    </tr>\n",
       "    <tr>\n",
       "      <th>Obsidian Tabber-1674601442427.jpeg</th>\n",
       "      <td>image/Obsidian Tabber-1674601442427.jpeg</td>\n",
       "      <td>vaultes/brain/image/Obsidian Tabber-1674601442...</td>\n",
       "      <td>True</td>\n",
       "      <td>1</td>\n",
       "      <td>NaN</td>\n",
       "      <td>NaN</td>\n",
       "      <td>NaN</td>\n",
       "      <td>2023-03-23 17:03:45.735629320</td>\n",
       "      <td>attachment</td>\n",
       "    </tr>\n",
       "    <tr>\n",
       "      <th>placeholder-1671408403833.jpeg</th>\n",
       "      <td>image/placeholder-1671408403833.jpeg</td>\n",
       "      <td>vaultes/brain/image/placeholder-1671408403833....</td>\n",
       "      <td>True</td>\n",
       "      <td>0</td>\n",
       "      <td>NaN</td>\n",
       "      <td>NaN</td>\n",
       "      <td>NaN</td>\n",
       "      <td>2023-03-23 17:03:45.737160206</td>\n",
       "      <td>attachment</td>\n",
       "    </tr>\n",
       "  </tbody>\n",
       "</table>\n",
       "<p>135 rows × 9 columns</p>\n",
       "</div>"
      ],
      "text/plain": [
       "                                                                                   rel_filepath  \\\n",
       "file                                                                                              \n",
       "GitHub wikis in obsidian & interwikilinks                                                   NaN   \n",
       "MultiMarkdown                                                            varia/MultiMarkdown.md   \n",
       "bring value ASAP                                             tech art/learn/bring value ASAP.md   \n",
       "blueprint python                                                     unreal/blueprint python.md   \n",
       "install apps winget                                                varia/install apps winget.md   \n",
       "...                                                                                         ...   \n",
       "Obsidian private comments-1673286147963.jpeg  image/Obsidian private comments-1673286147963....   \n",
       "add notes to explorer-1673900509482.jpeg         image/add notes to explorer-1673900509482.jpeg   \n",
       "navigate sibling page-1674170180221.jpeg         image/navigate sibling page-1674170180221.jpeg   \n",
       "Obsidian Tabber-1674601442427.jpeg                     image/Obsidian Tabber-1674601442427.jpeg   \n",
       "placeholder-1671408403833.jpeg                             image/placeholder-1671408403833.jpeg   \n",
       "\n",
       "                                                                                   abs_filepath  \\\n",
       "file                                                                                              \n",
       "GitHub wikis in obsidian & interwikilinks                                                   NaN   \n",
       "MultiMarkdown                                              vaultes/brain/varia/MultiMarkdown.md   \n",
       "bring value ASAP                               vaultes/brain/tech art/learn/bring value ASAP.md   \n",
       "blueprint python                                       vaultes/brain/unreal/blueprint python.md   \n",
       "install apps winget                                  vaultes/brain/varia/install apps winget.md   \n",
       "...                                                                                         ...   \n",
       "Obsidian private comments-1673286147963.jpeg  vaultes/brain/image/Obsidian private comments-...   \n",
       "add notes to explorer-1673900509482.jpeg      vaultes/brain/image/add notes to explorer-1673...   \n",
       "navigate sibling page-1674170180221.jpeg      vaultes/brain/image/navigate sibling page-1674...   \n",
       "Obsidian Tabber-1674601442427.jpeg            vaultes/brain/image/Obsidian Tabber-1674601442...   \n",
       "placeholder-1671408403833.jpeg                vaultes/brain/image/placeholder-1671408403833....   \n",
       "\n",
       "                                             file_exists n_backlinks  \\\n",
       "file                                                                   \n",
       "GitHub wikis in obsidian & interwikilinks          False           1   \n",
       "MultiMarkdown                                       True           0   \n",
       "bring value ASAP                                    True           1   \n",
       "blueprint python                                    True           0   \n",
       "install apps winget                                 True           0   \n",
       "...                                                  ...         ...   \n",
       "Obsidian private comments-1673286147963.jpeg        True           1   \n",
       "add notes to explorer-1673900509482.jpeg            True           1   \n",
       "navigate sibling page-1674170180221.jpeg            True           1   \n",
       "Obsidian Tabber-1674601442427.jpeg                  True           1   \n",
       "placeholder-1671408403833.jpeg                      True           0   \n",
       "\n",
       "                                              n_wikilinks  n_tags  \\\n",
       "file                                                                \n",
       "GitHub wikis in obsidian & interwikilinks             NaN     NaN   \n",
       "MultiMarkdown                                         0.0     1.0   \n",
       "bring value ASAP                                      0.0     1.0   \n",
       "blueprint python                                      0.0     1.0   \n",
       "install apps winget                                   0.0     1.0   \n",
       "...                                                   ...     ...   \n",
       "Obsidian private comments-1673286147963.jpeg          NaN     NaN   \n",
       "add notes to explorer-1673900509482.jpeg              NaN     NaN   \n",
       "navigate sibling page-1674170180221.jpeg              NaN     NaN   \n",
       "Obsidian Tabber-1674601442427.jpeg                    NaN     NaN   \n",
       "placeholder-1671408403833.jpeg                        NaN     NaN   \n",
       "\n",
       "                                              n_embedded_files  \\\n",
       "file                                                             \n",
       "GitHub wikis in obsidian & interwikilinks                  NaN   \n",
       "MultiMarkdown                                              0.0   \n",
       "bring value ASAP                                           0.0   \n",
       "blueprint python                                           0.0   \n",
       "install apps winget                                        0.0   \n",
       "...                                                        ...   \n",
       "Obsidian private comments-1673286147963.jpeg               NaN   \n",
       "add notes to explorer-1673900509482.jpeg                   NaN   \n",
       "navigate sibling page-1674170180221.jpeg                   NaN   \n",
       "Obsidian Tabber-1674601442427.jpeg                         NaN   \n",
       "placeholder-1671408403833.jpeg                             NaN   \n",
       "\n",
       "                                                             modified_time  \\\n",
       "file                                                                         \n",
       "GitHub wikis in obsidian & interwikilinks                              NaT   \n",
       "MultiMarkdown                                2023-03-23 17:03:45.743535995   \n",
       "bring value ASAP                             2023-03-23 17:03:45.741283655   \n",
       "blueprint python                             2023-03-23 17:03:45.743141890   \n",
       "install apps winget                          2023-03-23 17:03:45.744144678   \n",
       "...                                                                    ...   \n",
       "Obsidian private comments-1673286147963.jpeg 2023-03-23 17:03:45.735747337   \n",
       "add notes to explorer-1673900509482.jpeg     2023-03-23 17:03:45.735861540   \n",
       "navigate sibling page-1674170180221.jpeg     2023-03-23 17:03:45.736437798   \n",
       "Obsidian Tabber-1674601442427.jpeg           2023-03-23 17:03:45.735629320   \n",
       "placeholder-1671408403833.jpeg               2023-03-23 17:03:45.737160206   \n",
       "\n",
       "                                             graph_category  \n",
       "file                                                         \n",
       "GitHub wikis in obsidian & interwikilinks       nonexistent  \n",
       "MultiMarkdown                                          note  \n",
       "bring value ASAP                                       note  \n",
       "blueprint python                                       note  \n",
       "install apps winget                                    note  \n",
       "...                                                     ...  \n",
       "Obsidian private comments-1673286147963.jpeg     attachment  \n",
       "add notes to explorer-1673900509482.jpeg         attachment  \n",
       "navigate sibling page-1674170180221.jpeg         attachment  \n",
       "Obsidian Tabber-1674601442427.jpeg               attachment  \n",
       "placeholder-1671408403833.jpeg                   attachment  \n",
       "\n",
       "[135 rows x 9 columns]"
      ]
     },
     "execution_count": 3,
     "metadata": {},
     "output_type": "execute_result"
    }
   ],
   "source": [
    "#df = brain_vault.get_all_file_metadata()\n",
    "df = vault.get_all_file_metadata()\n",
    "df"
   ]
  },
  {
   "cell_type": "code",
   "execution_count": 4,
   "id": "5b80b818",
   "metadata": {},
   "outputs": [
    {
     "data": {
      "text/plain": [
       "GitHub wikis in obsidian & interwikilinks    1\n",
       "file URI                                     1\n",
       "subsequent-sibling combinator                1\n",
       "TA background                                1\n",
       "learn shortcuts fast                         1\n",
       "                                            ..\n",
       "minimal notetaking                           1\n",
       "run MaxScript                                1\n",
       "max dark script editor listener              1\n",
       "note-link-janitor                            1\n",
       "placeholder-1671408403833.jpeg               1\n",
       "Name: file, Length: 135, dtype: int64"
      ]
     },
     "execution_count": 4,
     "metadata": {},
     "output_type": "execute_result"
    }
   ],
   "source": [
    "df.index.value_counts()"
   ]
  },
  {
   "cell_type": "code",
   "execution_count": 5,
   "id": "21a767df",
   "metadata": {},
   "outputs": [
    {
     "data": {
      "text/plain": [
       "135"
      ]
     },
     "execution_count": 5,
     "metadata": {},
     "output_type": "execute_result"
    }
   ],
   "source": [
    "len(vault.graph.nodes)"
   ]
  },
  {
   "cell_type": "code",
   "execution_count": 6,
   "id": "0bbdb4cf",
   "metadata": {},
   "outputs": [
    {
     "name": "stdout",
     "output_type": "stream",
     "text": [
      "deleted 39 nodes from graph\n"
     ]
    }
   ],
   "source": [
    "delete_nodes_without_links(vault.graph)"
   ]
  },
  {
   "cell_type": "code",
   "execution_count": 7,
   "id": "a1f6274f",
   "metadata": {},
   "outputs": [
    {
     "data": {
      "text/plain": [
       "96"
      ]
     },
     "execution_count": 7,
     "metadata": {},
     "output_type": "execute_result"
    }
   ],
   "source": [
    "len(vault.graph.nodes)"
   ]
  },
  {
   "cell_type": "code",
   "execution_count": 8,
   "id": "06cb5765",
   "metadata": {},
   "outputs": [],
   "source": [
    "def get_text_from_html(html):\n",
    "    soup = BeautifulSoup(html, features=\"html.parser\")\n",
    "\n",
    "    # kill all script and style elements\n",
    "    for script in soup([\"script\", \"style\"]):\n",
    "        script.extract()    # rip it out\n",
    "\n",
    "    # get text\n",
    "    text = soup.get_text()\n",
    "\n",
    "    # break into lines and remove leading and trailing space on each\n",
    "    lines = (line.strip() for line in text.splitlines())\n",
    "    # break multi-headlines into a line each\n",
    "    chunks = (phrase.strip() for line in lines for phrase in line.split(\"  \"))\n",
    "    # drop blank lines\n",
    "    text = '\\n'.join(chunk for chunk in chunks if chunk)\n",
    "    return text\n",
    "\n",
    "def get_text_from_markdown(filepath):\n",
    "    with open(filepath, 'r') as f:\n",
    "        text = f.read()\n",
    "        html = md.markdown(text)\n",
    "        text = get_text_from_html(html)\n",
    "    return text\n",
    "\n",
    "def get_text_from_pdf(filepath):\n",
    "    with open(filepath, 'rb') as f:\n",
    "        pdfReader = PyPDF2.PdfReader(f)\n",
    "        text = \"\"\n",
    "        \n",
    "        for page in pdfReader.pages:\n",
    "            text += page.extract_text()\n",
    "            all_images.extend(page.images)\n",
    "    return text\n",
    "\n",
    "\n",
    "def get_images_from_pdf(filepath):\n",
    "    with open(filepath, 'rb') as f:\n",
    "        pdfReader = PyPDF2.PdfReader(f)\n",
    "        images = []\n",
    "        \n",
    "        for page in pdfReader.pages:\n",
    "            for image_file in page.images:\n",
    "                images.append(Image.open(io.BytesIO(image_file.data)))\n",
    "    return images"
   ]
  },
  {
   "cell_type": "code",
   "execution_count": 9,
   "id": "726b1b4e",
   "metadata": {},
   "outputs": [
    {
     "name": "stderr",
     "output_type": "stream",
     "text": [
      "Some weights of the model checkpoint at bert-base-multilingual-cased were not used when initializing BertModel: ['cls.seq_relationship.weight', 'cls.predictions.transform.dense.bias', 'cls.predictions.decoder.weight', 'cls.predictions.bias', 'cls.predictions.transform.dense.weight', 'cls.predictions.transform.LayerNorm.weight', 'cls.seq_relationship.bias', 'cls.predictions.transform.LayerNorm.bias']\n",
      "- This IS expected if you are initializing BertModel from the checkpoint of a model trained on another task or with another architecture (e.g. initializing a BertForSequenceClassification model from a BertForPreTraining model).\n",
      "- This IS NOT expected if you are initializing BertModel from the checkpoint of a model that you expect to be exactly identical (initializing a BertForSequenceClassification model from a BertForSequenceClassification model).\n"
     ]
    },
    {
     "data": {
      "text/plain": [
       "1"
      ]
     },
     "execution_count": 9,
     "metadata": {},
     "output_type": "execute_result"
    }
   ],
   "source": [
    "device = \"cuda\" if torch.cuda.is_available() else \"cpu\"\n",
    "\n",
    "tokenizer_bert = BertTokenizer.from_pretrained('bert-base-multilingual-cased')\n",
    "model_bert = BertModel.from_pretrained(\"bert-base-multilingual-cased\")\n",
    "\n",
    "model_bert.to(device)\n",
    "\n",
    "1"
   ]
  },
  {
   "cell_type": "code",
   "execution_count": 10,
   "id": "5c144c7e",
   "metadata": {},
   "outputs": [],
   "source": [
    "# model_i2t = VisionEncoderDecoderModel.from_pretrained(\"nlpconnect/vit-gpt2-image-captioning\")\n",
    "# feature_extractor = ViTImageProcessor.from_pretrained(\"nlpconnect/vit-gpt2-image-captioning\")\n",
    "# tokenizer_i2t = AutoTokenizer.from_pretrained(\"nlpconnect/vit-gpt2-image-captioning\")\n",
    "\n",
    "# model_i2t.to(device)\n",
    "\n",
    "# 1"
   ]
  },
  {
   "cell_type": "code",
   "execution_count": 11,
   "id": "ccdd739d",
   "metadata": {},
   "outputs": [],
   "source": [
    "@torch.no_grad()\n",
    "def encode_text(text):\n",
    "    encoded_input = tokenizer_bert(text, truncation=True, return_tensors='pt')\n",
    "    output = model_bert(**encoded_input)\n",
    "    return output.pooler_output.cpu().numpy()[0]"
   ]
  },
  {
   "cell_type": "code",
   "execution_count": 12,
   "id": "b5376aa6",
   "metadata": {},
   "outputs": [],
   "source": [
    "# def image_to_text(image):\n",
    "#     if image.mode != \"RGB\":\n",
    "#         image = image.convert(mode=\"RGB\")\n",
    "    \n",
    "#     pixel_values = feature_extractor(images=[image], return_tensors=\"pt\").pixel_values\n",
    "#     pixel_values = pixel_values.to(device)\n",
    "\n",
    "#     gen_kwargs = {\"max_length\": 256, \"num_beams\": 4}\n",
    "#     output_ids = model_i2t.generate(pixel_values, **gen_kwargs)\n",
    "\n",
    "#     preds = tokenizer_i2t.batch_decode(output_ids, skip_special_tokens=True)\n",
    "#     preds = [pred.strip() for pred in preds]\n",
    "#     return preds[0]"
   ]
  },
  {
   "cell_type": "code",
   "execution_count": 13,
   "id": "e682a6e2",
   "metadata": {},
   "outputs": [],
   "source": [
    "# embeddings = []\n",
    "\n",
    "# for path in tqdm(df[\"abs_filepath\"]):\n",
    "#     extension = str(path).split('.')[-1]\n",
    "#     if extension == 'md':\n",
    "#         text = get_text_from_markdown(path)\n",
    "#         embeddings.append(encode_text(text))\n",
    "#     elif extension == 'pdf':\n",
    "#         text = get_text_from_pdf(path)\n",
    "#         images = get_images_from_pdf(path)\n",
    "#         for image in tqdm(images, desc='images', leave=False):\n",
    "#             text += \" \"\n",
    "#             text += image_to_text(image)\n",
    "#         embeddings.append(encode_text(text))\n",
    "#     elif extension in {'jpeg', 'gif', 'png'}:\n",
    "#         image = Image.open(path)\n",
    "#         text = image_to_text(image)\n",
    "#         embeddings.append(encode_text(text))\n",
    "#     else:\n",
    "#         # embeddings.append(np.random.rand(768))\n",
    "#         1/0"
   ]
  },
  {
   "cell_type": "code",
   "execution_count": 14,
   "id": "e3f22d74",
   "metadata": {},
   "outputs": [
    {
     "data": {
      "application/vnd.jupyter.widget-view+json": {
       "model_id": "b7916f2098e347adafef10da8393fa0e",
       "version_major": 2,
       "version_minor": 0
      },
      "text/plain": [
       "  0%|          | 0/96 [00:00<?, ?it/s]"
      ]
     },
     "metadata": {},
     "output_type": "display_data"
    }
   ],
   "source": [
    "embeddings = []\n",
    "\n",
    "for text in tqdm(vault.graph.nodes):\n",
    "    embeddings.append(encode_text(text))"
   ]
  },
  {
   "cell_type": "code",
   "execution_count": 15,
   "id": "990c60f6",
   "metadata": {},
   "outputs": [],
   "source": [
    "emb_dict = {}\n",
    "\n",
    "for file, emb in zip(vault.graph.nodes, embeddings):\n",
    "    emb_dict[file] = emb\n",
    "\n",
    "with open(\"brain_embeddings.pkl\", 'wb') as f:\n",
    "    pickle.dump(emb_dict, f)"
   ]
  },
  {
   "cell_type": "markdown",
   "id": "473acde8",
   "metadata": {},
   "source": [
    "# LightFM part"
   ]
  },
  {
   "cell_type": "code",
   "execution_count": 12,
   "id": "6b0a11d2",
   "metadata": {},
   "outputs": [
    {
     "name": "stderr",
     "output_type": "stream",
     "text": [
      "/Users/avzelentsov/PycharmProjects/LinkPredict/.rec_sys_proj_venv/lib/python3.9/site-packages/lightfm/_lightfm_fast.py:9: UserWarning: LightFM was compiled without OpenMP support. Only a single thread will be used.\n",
      "  warnings.warn(\n"
     ]
    }
   ],
   "source": [
    "from lfm import build_lfm_model\n",
    "from evaluation import topn_recommendations"
   ]
  },
  {
   "cell_type": "code",
   "execution_count": 13,
   "id": "d9784812",
   "metadata": {},
   "outputs": [
    {
     "data": {
      "text/plain": [
       "96"
      ]
     },
     "execution_count": 13,
     "metadata": {},
     "output_type": "execute_result"
    }
   ],
   "source": [
    "len(vault.graph.nodes)"
   ]
  },
  {
   "cell_type": "code",
   "execution_count": 14,
   "id": "0393e6fa",
   "metadata": {},
   "outputs": [],
   "source": [
    "modified_graph, deleted_edges = holdout(vault.graph, alpha=0.1)"
   ]
  },
  {
   "cell_type": "code",
   "execution_count": 15,
   "id": "33bf8c28",
   "metadata": {},
   "outputs": [
    {
     "data": {
      "text/plain": [
       "<networkx.classes.multidigraph.MultiDiGraph at 0x7faa083684c0>"
      ]
     },
     "execution_count": 15,
     "metadata": {},
     "output_type": "execute_result"
    }
   ],
   "source": [
    "modified_graph"
   ]
  },
  {
   "cell_type": "code",
   "execution_count": 16,
   "id": "f69f11a2",
   "metadata": {},
   "outputs": [
    {
     "data": {
      "text/plain": [
       "[(73, 2),\n",
       " (63, 2),\n",
       " (61, 18),\n",
       " (59, 44),\n",
       " (47, 58),\n",
       " (42, 10),\n",
       " (40, 4),\n",
       " (29, 72),\n",
       " (26, 64),\n",
       " (26, 81),\n",
       " (14, 25),\n",
       " (12, 51),\n",
       " (11, 15)]"
      ]
     },
     "execution_count": 16,
     "metadata": {},
     "output_type": "execute_result"
    }
   ],
   "source": [
    "del_edges = []\n",
    "\n",
    "for edge in deleted_edges:\n",
    "    ind0 = list(vault.graph.nodes).index(edge[0])\n",
    "    ind1 = list(vault.graph.nodes).index(edge[1])\n",
    "    del_edges.append((ind0, ind1))\n",
    "\n",
    "del_edges"
   ]
  },
  {
   "cell_type": "code",
   "execution_count": 17,
   "id": "b6a35e6d",
   "metadata": {},
   "outputs": [
    {
     "data": {
      "text/plain": [
       "(96, 96)"
      ]
     },
     "execution_count": 17,
     "metadata": {},
     "output_type": "execute_result"
    }
   ],
   "source": [
    "train_matrix = nx.adjacency_matrix(modified_graph)\n",
    "train_matrix = train_matrix\n",
    "train_matrix.shape"
   ]
  },
  {
   "cell_type": "code",
   "execution_count": 18,
   "id": "2622d0c1",
   "metadata": {},
   "outputs": [
    {
     "data": {
      "text/plain": [
       "117"
      ]
     },
     "execution_count": 18,
     "metadata": {},
     "output_type": "execute_result"
    }
   ],
   "source": [
    "train_matrix.sum()"
   ]
  },
  {
   "cell_type": "code",
   "execution_count": 19,
   "id": "0319c69b",
   "metadata": {},
   "outputs": [
    {
     "data": {
      "text/plain": [
       "{'n_users': 96, 'n_items': 96}"
      ]
     },
     "execution_count": 19,
     "metadata": {},
     "output_type": "execute_result"
    }
   ],
   "source": [
    "data_description = dict(\n",
    "    n_users = train_matrix.shape[0],\n",
    "    n_items = train_matrix.shape[1],\n",
    "    # user_features = ... skip for now, will be defined later\n",
    "    # item_features = None # compound features are not present in the dataset\n",
    ")\n",
    "data_description"
   ]
  },
  {
   "cell_type": "code",
   "execution_count": 20,
   "id": "4869ed7f",
   "metadata": {},
   "outputs": [],
   "source": [
    "with open(\"brain_embeddings.pkl\", 'rb') as f:\n",
    "    emb_dict = pickle.load(f)"
   ]
  },
  {
   "cell_type": "code",
   "execution_count": 21,
   "id": "ad6fda53",
   "metadata": {},
   "outputs": [],
   "source": [
    "data_description[\"user_features\"] = sparse.csr_matrix([emb_dict[file] for file in vault.graph.nodes])\n",
    "data_description[\"item_features\"] = sparse.csr_matrix([emb_dict[file] for file in vault.graph.nodes])"
   ]
  },
  {
   "cell_type": "code",
   "execution_count": 22,
   "id": "6cf80d5e",
   "metadata": {},
   "outputs": [],
   "source": [
    "holdout_data_description = dict(\n",
    "    users = [de_[0] for de_ in del_edges],\n",
    "    n_items = train_matrix.shape[1],\n",
    "    # user_features = ... skip for now, will be defined later\n",
    "    # item_features = None # compound features are not present in the dataset\n",
    ")"
   ]
  },
  {
   "cell_type": "code",
   "execution_count": 23,
   "id": "f0e05546",
   "metadata": {},
   "outputs": [],
   "source": [
    "holdout_data_description[\"user_features\"] = sparse.csr_matrix([emb_dict[file] for file in vault.graph.nodes])\n",
    "holdout_data_description[\"item_features\"] = sparse.csr_matrix([emb_dict[file] for file in vault.graph.nodes])"
   ]
  },
  {
   "cell_type": "code",
   "execution_count": 24,
   "id": "48873b70",
   "metadata": {},
   "outputs": [],
   "source": [
    "lfm_config = dict(\n",
    "    no_components = 256,\n",
    "    loss = 'warp',\n",
    "    max_sampled = 1,\n",
    "    max_epochs = 30,\n",
    "    learning_schedule = 'adagrad',\n",
    "    user_alpha = 1e-3,\n",
    "    item_alpha = 1e-3,\n",
    "    random_state = 7032023\n",
    ")"
   ]
  },
  {
   "cell_type": "code",
   "execution_count": 25,
   "id": "7fd66356",
   "metadata": {},
   "outputs": [],
   "source": [
    "topn = 10"
   ]
  },
  {
   "cell_type": "code",
   "execution_count": 26,
   "id": "3249f26e",
   "metadata": {},
   "outputs": [
    {
     "data": {
      "application/vnd.jupyter.widget-view+json": {
       "model_id": "240677fdcbd24d76a635d25c8ee8b2a6",
       "version_major": 2,
       "version_minor": 0
      },
      "text/plain": [
       "  0%|          | 0/30 [00:00<?, ?it/s]"
      ]
     },
     "metadata": {},
     "output_type": "display_data"
    }
   ],
   "source": [
    "lfm_model = build_lfm_model(\n",
    "    lfm_config,\n",
    "    train_matrix,\n",
    "    data_description,\n",
    "    iterator = tqdm\n",
    ")"
   ]
  },
  {
   "cell_type": "code",
   "execution_count": 27,
   "id": "80e4e8ef",
   "metadata": {},
   "outputs": [],
   "source": [
    "# your code here\n",
    "def cartesian_product(x, y):\n",
    "    return np.transpose([np.tile(x, len(y)), np.repeat(y, len(x))])\n",
    "\n",
    "def lightfm_scoring(model, data, data_description, item_bias=True):\n",
    "    users = np.unique(data_description['users'])\n",
    "    items = np.arange(data_description['n_items'])\n",
    "    \n",
    "    user_item_pairs = cartesian_product(users, items)\n",
    "    \n",
    "    if item_bias is False:\n",
    "        cur_biases = lfm_model.item_biases.copy()\n",
    "\n",
    "        lfm_model.item_biases *= 0\n",
    "    \n",
    "    predictions = model.predict(\n",
    "                                user_ids=user_item_pairs[:, 0],\n",
    "                                item_ids=user_item_pairs[:, 1],\n",
    "                                user_features=data_description['user_features'],\n",
    "                                item_features=data_description['item_features'],\n",
    "                               )\n",
    "    scores = predictions.reshape(len(items), len(users))\n",
    "    \n",
    "    if item_bias is False:\n",
    "        lfm_model.item_biases[:] = cur_biases\n",
    "    \n",
    "    return scores.T, users"
   ]
  },
  {
   "cell_type": "code",
   "execution_count": 28,
   "id": "56df633c",
   "metadata": {},
   "outputs": [],
   "source": [
    "lfm_scores, test_users = lightfm_scoring(lfm_model, None, holdout_data_description, item_bias=False)\n",
    "lfm_recs = topn_recommendations(lfm_scores, topn=topn)"
   ]
  },
  {
   "cell_type": "code",
   "execution_count": 29,
   "id": "96c7a8d8",
   "metadata": {},
   "outputs": [],
   "source": [
    "def recall(lfm_recs, users, del_edges, holdout_data_description):\n",
    "    \n",
    "    edges_dict = {}\n",
    "    \n",
    "    for edge in del_edges:\n",
    "        edges_dict[edge[0]] = edges_dict.get(edge[0], set())\n",
    "        edges_dict[edge[0]].add(edge[1])\n",
    "    \n",
    "    metric = 0\n",
    "    \n",
    "    for i, rec in enumerate(lfm_recs):\n",
    "        metric += len(set(rec) & edges_dict[users[i]]) / len(edges_dict[users[i]])\n",
    "    \n",
    "    return metric / len(users)"
   ]
  },
  {
   "cell_type": "code",
   "execution_count": 30,
   "id": "c338ba51",
   "metadata": {},
   "outputs": [
    {
     "data": {
      "text/plain": [
       "0.3333333333333333"
      ]
     },
     "execution_count": 30,
     "metadata": {},
     "output_type": "execute_result"
    }
   ],
   "source": [
    "recall(lfm_recs, test_users, del_edges, holdout_data_description)"
   ]
  },
  {
   "cell_type": "code",
   "execution_count": null,
   "id": "f7b4a9b9",
   "metadata": {},
   "outputs": [],
   "source": []
  },
  {
   "cell_type": "code",
   "execution_count": 31,
   "id": "22a43320",
   "metadata": {},
   "outputs": [
    {
     "data": {
      "application/vnd.jupyter.widget-view+json": {
       "model_id": "4400da54e5ec4be796a3be2af6f7d145",
       "version_major": 2,
       "version_minor": 0
      },
      "text/plain": [
       "  0%|          | 0/50 [00:00<?, ?it/s]"
      ]
     },
     "metadata": {},
     "output_type": "display_data"
    },
    {
     "data": {
      "application/vnd.jupyter.widget-view+json": {
       "model_id": "e8d609027fff42d89c5195369db0e383",
       "version_major": 2,
       "version_minor": 0
      },
      "text/plain": [
       "  0%|          | 0/30 [00:00<?, ?it/s]"
      ]
     },
     "metadata": {},
     "output_type": "display_data"
    },
    {
     "data": {
      "application/vnd.jupyter.widget-view+json": {
       "model_id": "20ca595d01d94953aa373b6fe85c7899",
       "version_major": 2,
       "version_minor": 0
      },
      "text/plain": [
       "  0%|          | 0/30 [00:00<?, ?it/s]"
      ]
     },
     "metadata": {},
     "output_type": "display_data"
    },
    {
     "data": {
      "application/vnd.jupyter.widget-view+json": {
       "model_id": "d6ca4be824d245e3bb57f350d1c742a9",
       "version_major": 2,
       "version_minor": 0
      },
      "text/plain": [
       "  0%|          | 0/30 [00:00<?, ?it/s]"
      ]
     },
     "metadata": {},
     "output_type": "display_data"
    },
    {
     "data": {
      "application/vnd.jupyter.widget-view+json": {
       "model_id": "83175084cef14584a4a28f09efc30b02",
       "version_major": 2,
       "version_minor": 0
      },
      "text/plain": [
       "  0%|          | 0/30 [00:00<?, ?it/s]"
      ]
     },
     "metadata": {},
     "output_type": "display_data"
    },
    {
     "data": {
      "application/vnd.jupyter.widget-view+json": {
       "model_id": "c89a3de70d94452e84dfdf5f9edabadb",
       "version_major": 2,
       "version_minor": 0
      },
      "text/plain": [
       "  0%|          | 0/30 [00:00<?, ?it/s]"
      ]
     },
     "metadata": {},
     "output_type": "display_data"
    },
    {
     "data": {
      "application/vnd.jupyter.widget-view+json": {
       "model_id": "560d843cb15b4372959bc840fce0980a",
       "version_major": 2,
       "version_minor": 0
      },
      "text/plain": [
       "  0%|          | 0/30 [00:00<?, ?it/s]"
      ]
     },
     "metadata": {},
     "output_type": "display_data"
    },
    {
     "data": {
      "application/vnd.jupyter.widget-view+json": {
       "model_id": "a6f5c0d3138b4678a8830daaf7fad1fb",
       "version_major": 2,
       "version_minor": 0
      },
      "text/plain": [
       "  0%|          | 0/30 [00:00<?, ?it/s]"
      ]
     },
     "metadata": {},
     "output_type": "display_data"
    },
    {
     "data": {
      "application/vnd.jupyter.widget-view+json": {
       "model_id": "f49b5375526d4a2aa7b2079be3701f5c",
       "version_major": 2,
       "version_minor": 0
      },
      "text/plain": [
       "  0%|          | 0/30 [00:00<?, ?it/s]"
      ]
     },
     "metadata": {},
     "output_type": "display_data"
    },
    {
     "data": {
      "application/vnd.jupyter.widget-view+json": {
       "model_id": "6448a8ce0aa94d6e80471723392c9816",
       "version_major": 2,
       "version_minor": 0
      },
      "text/plain": [
       "  0%|          | 0/30 [00:00<?, ?it/s]"
      ]
     },
     "metadata": {},
     "output_type": "display_data"
    },
    {
     "data": {
      "application/vnd.jupyter.widget-view+json": {
       "model_id": "351e8a3d6eb74032a2b0e30c6bb2a67e",
       "version_major": 2,
       "version_minor": 0
      },
      "text/plain": [
       "  0%|          | 0/30 [00:00<?, ?it/s]"
      ]
     },
     "metadata": {},
     "output_type": "display_data"
    },
    {
     "data": {
      "application/vnd.jupyter.widget-view+json": {
       "model_id": "40c04a945210450c8c09dbffae6e2047",
       "version_major": 2,
       "version_minor": 0
      },
      "text/plain": [
       "  0%|          | 0/30 [00:00<?, ?it/s]"
      ]
     },
     "metadata": {},
     "output_type": "display_data"
    },
    {
     "data": {
      "application/vnd.jupyter.widget-view+json": {
       "model_id": "e855965126884e2e95b64c8479abe1c8",
       "version_major": 2,
       "version_minor": 0
      },
      "text/plain": [
       "  0%|          | 0/30 [00:00<?, ?it/s]"
      ]
     },
     "metadata": {},
     "output_type": "display_data"
    },
    {
     "data": {
      "application/vnd.jupyter.widget-view+json": {
       "model_id": "9e8c10fddd62442b822bc56d5b15e820",
       "version_major": 2,
       "version_minor": 0
      },
      "text/plain": [
       "  0%|          | 0/30 [00:00<?, ?it/s]"
      ]
     },
     "metadata": {},
     "output_type": "display_data"
    },
    {
     "data": {
      "application/vnd.jupyter.widget-view+json": {
       "model_id": "bed14a38070349449767620fb31f3efa",
       "version_major": 2,
       "version_minor": 0
      },
      "text/plain": [
       "  0%|          | 0/30 [00:00<?, ?it/s]"
      ]
     },
     "metadata": {},
     "output_type": "display_data"
    },
    {
     "data": {
      "application/vnd.jupyter.widget-view+json": {
       "model_id": "74375274935744d09216cb345eafdb51",
       "version_major": 2,
       "version_minor": 0
      },
      "text/plain": [
       "  0%|          | 0/30 [00:00<?, ?it/s]"
      ]
     },
     "metadata": {},
     "output_type": "display_data"
    },
    {
     "data": {
      "application/vnd.jupyter.widget-view+json": {
       "model_id": "08f1f1a7a1a44fd9b77f88cf377178c8",
       "version_major": 2,
       "version_minor": 0
      },
      "text/plain": [
       "  0%|          | 0/30 [00:00<?, ?it/s]"
      ]
     },
     "metadata": {},
     "output_type": "display_data"
    },
    {
     "data": {
      "application/vnd.jupyter.widget-view+json": {
       "model_id": "1b26d2c1d33f40f19d5debb0f13a63e5",
       "version_major": 2,
       "version_minor": 0
      },
      "text/plain": [
       "  0%|          | 0/30 [00:00<?, ?it/s]"
      ]
     },
     "metadata": {},
     "output_type": "display_data"
    },
    {
     "data": {
      "application/vnd.jupyter.widget-view+json": {
       "model_id": "393be42054a8404e8dcd4366bba0a121",
       "version_major": 2,
       "version_minor": 0
      },
      "text/plain": [
       "  0%|          | 0/30 [00:00<?, ?it/s]"
      ]
     },
     "metadata": {},
     "output_type": "display_data"
    },
    {
     "data": {
      "application/vnd.jupyter.widget-view+json": {
       "model_id": "48e265fd7fa54ede86d80547c461fc02",
       "version_major": 2,
       "version_minor": 0
      },
      "text/plain": [
       "  0%|          | 0/30 [00:00<?, ?it/s]"
      ]
     },
     "metadata": {},
     "output_type": "display_data"
    },
    {
     "data": {
      "application/vnd.jupyter.widget-view+json": {
       "model_id": "433ee47001124396926fa942d1a7817c",
       "version_major": 2,
       "version_minor": 0
      },
      "text/plain": [
       "  0%|          | 0/30 [00:00<?, ?it/s]"
      ]
     },
     "metadata": {},
     "output_type": "display_data"
    },
    {
     "data": {
      "application/vnd.jupyter.widget-view+json": {
       "model_id": "fe1cf35aa10544709f2b35550e89f323",
       "version_major": 2,
       "version_minor": 0
      },
      "text/plain": [
       "  0%|          | 0/30 [00:00<?, ?it/s]"
      ]
     },
     "metadata": {},
     "output_type": "display_data"
    },
    {
     "data": {
      "application/vnd.jupyter.widget-view+json": {
       "model_id": "d7396c7ffa54433ab1e819ae30afb861",
       "version_major": 2,
       "version_minor": 0
      },
      "text/plain": [
       "  0%|          | 0/30 [00:00<?, ?it/s]"
      ]
     },
     "metadata": {},
     "output_type": "display_data"
    },
    {
     "data": {
      "application/vnd.jupyter.widget-view+json": {
       "model_id": "e9f378a47351425b8b86cb1b239f7c57",
       "version_major": 2,
       "version_minor": 0
      },
      "text/plain": [
       "  0%|          | 0/30 [00:00<?, ?it/s]"
      ]
     },
     "metadata": {},
     "output_type": "display_data"
    },
    {
     "data": {
      "application/vnd.jupyter.widget-view+json": {
       "model_id": "b899bb2422144f39a9c0a30e1e7e3415",
       "version_major": 2,
       "version_minor": 0
      },
      "text/plain": [
       "  0%|          | 0/30 [00:00<?, ?it/s]"
      ]
     },
     "metadata": {},
     "output_type": "display_data"
    },
    {
     "data": {
      "application/vnd.jupyter.widget-view+json": {
       "model_id": "eb59b27ccd1b410caad72e95db72f7c6",
       "version_major": 2,
       "version_minor": 0
      },
      "text/plain": [
       "  0%|          | 0/30 [00:00<?, ?it/s]"
      ]
     },
     "metadata": {},
     "output_type": "display_data"
    },
    {
     "data": {
      "application/vnd.jupyter.widget-view+json": {
       "model_id": "3500c0673d10434ca9770a483c2ea186",
       "version_major": 2,
       "version_minor": 0
      },
      "text/plain": [
       "  0%|          | 0/30 [00:00<?, ?it/s]"
      ]
     },
     "metadata": {},
     "output_type": "display_data"
    },
    {
     "data": {
      "application/vnd.jupyter.widget-view+json": {
       "model_id": "e1670f1444694b149ebbdeffc873bdf5",
       "version_major": 2,
       "version_minor": 0
      },
      "text/plain": [
       "  0%|          | 0/30 [00:00<?, ?it/s]"
      ]
     },
     "metadata": {},
     "output_type": "display_data"
    },
    {
     "data": {
      "application/vnd.jupyter.widget-view+json": {
       "model_id": "0cc4a970301d433f92a36da3dde24d52",
       "version_major": 2,
       "version_minor": 0
      },
      "text/plain": [
       "  0%|          | 0/30 [00:00<?, ?it/s]"
      ]
     },
     "metadata": {},
     "output_type": "display_data"
    },
    {
     "data": {
      "application/vnd.jupyter.widget-view+json": {
       "model_id": "c0c337f76abd4548988814728240b2c1",
       "version_major": 2,
       "version_minor": 0
      },
      "text/plain": [
       "  0%|          | 0/30 [00:00<?, ?it/s]"
      ]
     },
     "metadata": {},
     "output_type": "display_data"
    },
    {
     "data": {
      "application/vnd.jupyter.widget-view+json": {
       "model_id": "6c43e4a946b7456fa5d3c333a2e63385",
       "version_major": 2,
       "version_minor": 0
      },
      "text/plain": [
       "  0%|          | 0/30 [00:00<?, ?it/s]"
      ]
     },
     "metadata": {},
     "output_type": "display_data"
    },
    {
     "data": {
      "application/vnd.jupyter.widget-view+json": {
       "model_id": "93f2b0c50364496e93a2b03682f0d4ce",
       "version_major": 2,
       "version_minor": 0
      },
      "text/plain": [
       "  0%|          | 0/30 [00:00<?, ?it/s]"
      ]
     },
     "metadata": {},
     "output_type": "display_data"
    },
    {
     "data": {
      "application/vnd.jupyter.widget-view+json": {
       "model_id": "2214024b27604b559ba461f9653dce28",
       "version_major": 2,
       "version_minor": 0
      },
      "text/plain": [
       "  0%|          | 0/30 [00:00<?, ?it/s]"
      ]
     },
     "metadata": {},
     "output_type": "display_data"
    },
    {
     "data": {
      "application/vnd.jupyter.widget-view+json": {
       "model_id": "e7bd0ef9a2f8444d910be9d8c1f450b5",
       "version_major": 2,
       "version_minor": 0
      },
      "text/plain": [
       "  0%|          | 0/30 [00:00<?, ?it/s]"
      ]
     },
     "metadata": {},
     "output_type": "display_data"
    },
    {
     "data": {
      "application/vnd.jupyter.widget-view+json": {
       "model_id": "f2185fd7f304403a88a3460975ae1882",
       "version_major": 2,
       "version_minor": 0
      },
      "text/plain": [
       "  0%|          | 0/30 [00:00<?, ?it/s]"
      ]
     },
     "metadata": {},
     "output_type": "display_data"
    },
    {
     "data": {
      "application/vnd.jupyter.widget-view+json": {
       "model_id": "ed2790278ef4406f87c870f22b88e98a",
       "version_major": 2,
       "version_minor": 0
      },
      "text/plain": [
       "  0%|          | 0/30 [00:00<?, ?it/s]"
      ]
     },
     "metadata": {},
     "output_type": "display_data"
    },
    {
     "data": {
      "application/vnd.jupyter.widget-view+json": {
       "model_id": "b6dfd84b208b4f6e93439926a4ab55e4",
       "version_major": 2,
       "version_minor": 0
      },
      "text/plain": [
       "  0%|          | 0/30 [00:00<?, ?it/s]"
      ]
     },
     "metadata": {},
     "output_type": "display_data"
    }
   ],
   "source": [
    "recalls = []\n",
    "\n",
    "alpha = 0.1\n",
    "topn = 5\n",
    "\n",
    "\n",
    "for _ in tqdm(range(50)):\n",
    "    modified_graph, deleted_edges = holdout(vault.graph, alpha=alpha)\n",
    "    \n",
    "    train_matrix = nx.adjacency_matrix(modified_graph)\n",
    "    data_description = dict(\n",
    "        n_users = train_matrix.shape[0],\n",
    "        n_items = train_matrix.shape[1],\n",
    "        # user_features = ... skip for now, will be defined later\n",
    "        # item_features = None # compound features are not present in the dataset\n",
    "    )\n",
    "    \n",
    "    with open(\"brain_embeddings.pkl\", 'rb') as f:\n",
    "        emb_dict = pickle.load(f)\n",
    "    \n",
    "    data_description[\"user_features\"] = sparse.csr_matrix([emb_dict[file] for file in vault.graph.nodes])\n",
    "    data_description[\"item_features\"] = sparse.csr_matrix([emb_dict[file] for file in vault.graph.nodes])\n",
    "    \n",
    "    holdout_data_description = dict(\n",
    "        users = [de_[0] for de_ in del_edges],\n",
    "        n_items = train_matrix.shape[1],\n",
    "        # user_features = ... skip for now, will be defined later\n",
    "        # item_features = None # compound features are not present in the dataset\n",
    "    )\n",
    "    \n",
    "    holdout_data_description[\"user_features\"] = sparse.csr_matrix([emb_dict[file] for file in vault.graph.nodes])\n",
    "    holdout_data_description[\"item_features\"] = sparse.csr_matrix([emb_dict[file] for file in vault.graph.nodes])\n",
    "    \n",
    "    lfm_config = dict(\n",
    "        no_components = 256,\n",
    "        loss = 'warp',\n",
    "        max_sampled = 1,\n",
    "        max_epochs = 30,\n",
    "        learning_schedule = 'adagrad',\n",
    "        user_alpha = 1e-3,\n",
    "        item_alpha = 1e-3,\n",
    "        random_state = 7032023\n",
    "    )\n",
    "    \n",
    "    lfm_model = build_lfm_model(\n",
    "        lfm_config,\n",
    "        train_matrix,\n",
    "        data_description,\n",
    "    )\n",
    "    \n",
    "    lfm_scores, test_users = lightfm_scoring(lfm_model, None, holdout_data_description, item_bias=False)\n",
    "    lfm_recs = topn_recommendations(lfm_scores, topn=topn)\n",
    "    \n",
    "    recalls.append(recall(lfm_recs, test_users, del_edges, holdout_data_description))"
   ]
  },
  {
   "cell_type": "code",
   "execution_count": 34,
   "id": "a5046d91",
   "metadata": {},
   "outputs": [],
   "source": [
    "print(np.mean(recalls))"
   ]
  },
  {
   "cell_type": "code",
   "execution_count": 33,
   "id": "579ecb51",
   "metadata": {},
   "outputs": [],
   "source": [
    "fig, ax = plt.subplots(1)\n",
    "hist = pd.DataFrame(recalls).hist(bins=15, ax=ax)\n",
    "plt.savefig(f'./results/lightfm/alpha={alpha}_topn={topn}_n_exp=50_vault=brain.png')"
   ]
  },
  {
   "cell_type": "code",
   "execution_count": null,
   "id": "dc376951",
   "metadata": {},
   "outputs": [],
   "source": []
  }
 ],
 "metadata": {
  "kernelspec": {
   "display_name": "Python 3 (ipykernel)",
   "language": "python",
   "name": "python3"
  },
  "language_info": {
   "codemirror_mode": {
    "name": "ipython",
    "version": 3
   },
   "file_extension": ".py",
   "mimetype": "text/x-python",
   "name": "python",
   "nbconvert_exporter": "python",
   "pygments_lexer": "ipython3",
   "version": "3.9.1rc1"
  }
 },
 "nbformat": 4,
 "nbformat_minor": 5
}
