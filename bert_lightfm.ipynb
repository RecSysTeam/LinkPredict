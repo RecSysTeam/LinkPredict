{
 "cells": [
  {
   "cell_type": "code",
   "execution_count": 88,
   "id": "38c9b582",
   "metadata": {},
   "outputs": [],
   "source": [
    "from src.data import extract_vault, holdout, delete_nodes_without_links\n",
    "import matplotlib.pyplot as plt \n",
    "import networkx as nx\n",
    "\n",
    "import markdown as md\n",
    "from bs4 import BeautifulSoup\n",
    "import PyPDF2\n",
    "\n",
    "import io\n",
    "from PIL import Image\n",
    "import numpy as np\n",
    "\n",
    "import torch\n",
    "from transformers import BertTokenizer, BertModel, VisionEncoderDecoderModel, ViTImageProcessor, AutoTokenizer\n",
    "\n",
    "from tqdm.notebook import tqdm\n",
    "import pickle\n",
    "\n",
    "from scipy import sparse\n",
    "import pandas as pd\n",
    "\n",
    "import ssl\n",
    "ssl._create_default_https_context = ssl._create_unverified_context"
   ]
  },
  {
   "cell_type": "code",
   "execution_count": 89,
   "id": "2f2ee657",
   "metadata": {},
   "outputs": [
    {
     "name": "stdout",
     "output_type": "stream",
     "text": [
      "Front matter not populated for T - Thecookiemomma's Daily Log.md: ParserError('while parsing a block mapping', <yaml._yaml.Mark object at 0x7fcefd3d88b0>, 'did not find expected key', <yaml._yaml.Mark object at 0x7fcefd3d8720>)\n",
      "Front matter not populated for T - Thecookiemomma's Daily Log.md: ParserError('while parsing a block mapping', <yaml._yaml.Mark object at 0x7fcee8d10590>, 'did not find expected key', <yaml._yaml.Mark object at 0x7fcee8d104f0>)\n",
      "Front matter not populated for radekkozak.md: ScannerError('while scanning for the next token', <yaml._yaml.Mark object at 0x7fceb84cd540>, 'found character that cannot start any token', <yaml._yaml.Mark object at 0x7fcefcbe9130>)\n",
      "Front matter not populated for radekkozak.md: ScannerError('while scanning for the next token', <yaml._yaml.Mark object at 0x7fcefcbe9310>, 'found character that cannot start any token', <yaml._yaml.Mark object at 0x7fcefcbe9ae0>)\n",
      "Front matter not populated for kepano.md: ScannerError('while scanning for the next token', <yaml._yaml.Mark object at 0x7fcefd7fe400>, 'found character that cannot start any token', <yaml._yaml.Mark object at 0x7fcefd7fe770>)\n",
      "Front matter not populated for kepano.md: ScannerError('while scanning for the next token', <yaml._yaml.Mark object at 0x7fcefd3f9a40>, 'found character that cannot start any token', <yaml._yaml.Mark object at 0x7fcefd3f9ae0>)\n",
      "Front matter not populated for jaynguyens.md: ScannerError('while scanning for the next token', <yaml._yaml.Mark object at 0x7fcee96bc090>, 'found character that cannot start any token', <yaml._yaml.Mark object at 0x7fcefd81c0e0>)\n",
      "Front matter not populated for jaynguyens.md: ScannerError('while scanning for the next token', <yaml._yaml.Mark object at 0x7fcea09e3c70>, 'found character that cannot start any token', <yaml._yaml.Mark object at 0x7fcea09e3810>)\n",
      "Front matter not populated for beaussan.md: ScannerError('while scanning for the next token', <yaml._yaml.Mark object at 0x7fcefcc79a90>, 'found character that cannot start any token', <yaml._yaml.Mark object at 0x7fcefcc79ae0>)\n",
      "Front matter not populated for beaussan.md: ScannerError('while scanning for the next token', <yaml._yaml.Mark object at 0x7fcefcc79b80>, 'found character that cannot start any token', <yaml._yaml.Mark object at 0x7fcefcc79b30>)\n",
      "Front matter not populated for gavinmn.md: ScannerError('while scanning for the next token', <yaml._yaml.Mark object at 0x7fcefff71040>, 'found character that cannot start any token', <yaml._yaml.Mark object at 0x7fcefff71d60>)\n",
      "Front matter not populated for gavinmn.md: ScannerError('while scanning for the next token', <yaml._yaml.Mark object at 0x7fce9ac8f4f0>, 'found character that cannot start any token', <yaml._yaml.Mark object at 0x7fce9ac8f6d0>)\n",
      "Front matter not populated for T - Thecookiemomma's Daily Log.md: ParserError('while parsing a block mapping', <yaml._yaml.Mark object at 0x7fcefd252ae0>, 'did not find expected key', <yaml._yaml.Mark object at 0x7fcefd252810>)\n",
      "Front matter not populated for radekkozak.md: ScannerError('while scanning for the next token', <yaml._yaml.Mark object at 0x7fce39d5c0e0>, 'found character that cannot start any token', <yaml._yaml.Mark object at 0x7fce39d5c360>)\n",
      "Front matter not populated for kepano.md: ScannerError('while scanning for the next token', <yaml._yaml.Mark object at 0x7fce38176f90>, 'found character that cannot start any token', <yaml._yaml.Mark object at 0x7fce38176950>)\n",
      "Front matter not populated for jaynguyens.md: ScannerError('while scanning for the next token', <yaml._yaml.Mark object at 0x7fcea11278b0>, 'found character that cannot start any token', <yaml._yaml.Mark object at 0x7fcea1127450>)\n",
      "Front matter not populated for beaussan.md: ScannerError('while scanning for the next token', <yaml._yaml.Mark object at 0x7fcee9692130>, 'found character that cannot start any token', <yaml._yaml.Mark object at 0x7fcee9692d10>)\n",
      "Front matter not populated for gavinmn.md: ScannerError('while scanning for the next token', <yaml._yaml.Mark object at 0x7fcefcd78bd0>, 'found character that cannot start any token', <yaml._yaml.Mark object at 0x7fcefcd78cc0>)\n",
      "<class 'pandas.core.frame.DataFrame'>\n",
      "Index: 4874 entries,  to Everblush\n",
      "Data columns (total 9 columns):\n",
      " #   Column            Non-Null Count  Dtype         \n",
      "---  ------            --------------  -----         \n",
      " 0   rel_filepath      2413 non-null   object        \n",
      " 1   abs_filepath      2413 non-null   object        \n",
      " 2   file_exists       4874 non-null   bool          \n",
      " 3   n_backlinks       4874 non-null   int64         \n",
      " 4   n_wikilinks       2337 non-null   float64       \n",
      " 5   n_tags            2337 non-null   float64       \n",
      " 6   n_embedded_files  2337 non-null   float64       \n",
      " 7   modified_time     2413 non-null   datetime64[ns]\n",
      " 8   graph_category    4874 non-null   object        \n",
      "dtypes: bool(1), datetime64[ns](1), float64(3), int64(1), object(3)\n",
      "memory usage: 347.5+ KB\n",
      "None\n"
     ]
    }
   ],
   "source": [
    "vault = extract_vault('./vaultes/obsidian-hub/')\n",
    "# vault = extract_vault('./vaultes/brain/')"
   ]
  },
  {
   "cell_type": "code",
   "execution_count": 90,
   "id": "bd15dc00",
   "metadata": {},
   "outputs": [
    {
     "data": {
      "text/html": [
       "<div>\n",
       "<style scoped>\n",
       "    .dataframe tbody tr th:only-of-type {\n",
       "        vertical-align: middle;\n",
       "    }\n",
       "\n",
       "    .dataframe tbody tr th {\n",
       "        vertical-align: top;\n",
       "    }\n",
       "\n",
       "    .dataframe thead th {\n",
       "        text-align: right;\n",
       "    }\n",
       "</style>\n",
       "<table border=\"1\" class=\"dataframe\">\n",
       "  <thead>\n",
       "    <tr style=\"text-align: right;\">\n",
       "      <th></th>\n",
       "      <th>rel_filepath</th>\n",
       "      <th>abs_filepath</th>\n",
       "      <th>file_exists</th>\n",
       "      <th>n_backlinks</th>\n",
       "      <th>n_wikilinks</th>\n",
       "      <th>n_tags</th>\n",
       "      <th>n_embedded_files</th>\n",
       "      <th>modified_time</th>\n",
       "      <th>graph_category</th>\n",
       "    </tr>\n",
       "    <tr>\n",
       "      <th>file</th>\n",
       "      <th></th>\n",
       "      <th></th>\n",
       "      <th></th>\n",
       "      <th></th>\n",
       "      <th></th>\n",
       "      <th></th>\n",
       "      <th></th>\n",
       "      <th></th>\n",
       "      <th></th>\n",
       "    </tr>\n",
       "  </thead>\n",
       "  <tbody>\n",
       "    <tr>\n",
       "      <th></th>\n",
       "      <td>NaN</td>\n",
       "      <td>NaN</td>\n",
       "      <td>False</td>\n",
       "      <td>18</td>\n",
       "      <td>NaN</td>\n",
       "      <td>NaN</td>\n",
       "      <td>NaN</td>\n",
       "      <td>NaT</td>\n",
       "      <td>nonexistent</td>\n",
       "    </tr>\n",
       "    <tr>\n",
       "      <th>Mammoth</th>\n",
       "      <td>02 - Community Expansions/02.05 All Community ...</td>\n",
       "      <td>vaultes/obsidian-hub/02 - Community Expansions...</td>\n",
       "      <td>True</td>\n",
       "      <td>1</td>\n",
       "      <td>2.0</td>\n",
       "      <td>1.0</td>\n",
       "      <td>1.0</td>\n",
       "      <td>2023-03-23 23:53:17.859952927</td>\n",
       "      <td>note</td>\n",
       "    </tr>\n",
       "    <tr>\n",
       "      <th>JoshKasap</th>\n",
       "      <td>01 - Community/People/JoshKasap.md</td>\n",
       "      <td>vaultes/obsidian-hub/01 - Community/People/Jos...</td>\n",
       "      <td>True</td>\n",
       "      <td>2</td>\n",
       "      <td>1.0</td>\n",
       "      <td>0.0</td>\n",
       "      <td>0.0</td>\n",
       "      <td>2023-03-23 23:53:17.714100599</td>\n",
       "      <td>note</td>\n",
       "    </tr>\n",
       "    <tr>\n",
       "      <th>iPadOS Apps</th>\n",
       "      <td>02 - Community Expansions/02.04 Auxiliary Tool...</td>\n",
       "      <td>vaultes/obsidian-hub/02 - Community Expansions...</td>\n",
       "      <td>True</td>\n",
       "      <td>39</td>\n",
       "      <td>0.0</td>\n",
       "      <td>1.0</td>\n",
       "      <td>0.0</td>\n",
       "      <td>2023-03-23 23:53:17.773526192</td>\n",
       "      <td>note</td>\n",
       "    </tr>\n",
       "    <tr>\n",
       "      <th>jgauth</th>\n",
       "      <td>01 - Community/People/jgauth.md</td>\n",
       "      <td>vaultes/obsidian-hub/01 - Community/People/jga...</td>\n",
       "      <td>True</td>\n",
       "      <td>2</td>\n",
       "      <td>1.0</td>\n",
       "      <td>0.0</td>\n",
       "      <td>0.0</td>\n",
       "      <td>2023-03-23 23:53:17.741004944</td>\n",
       "      <td>note</td>\n",
       "    </tr>\n",
       "    <tr>\n",
       "      <th>...</th>\n",
       "      <td>...</td>\n",
       "      <td>...</td>\n",
       "      <td>...</td>\n",
       "      <td>...</td>\n",
       "      <td>...</td>\n",
       "      <td>...</td>\n",
       "      <td>...</td>\n",
       "      <td>...</td>\n",
       "      <td>...</td>\n",
       "    </tr>\n",
       "    <tr>\n",
       "      <th>css-obsidian-layout.png</th>\n",
       "      <td>NaN</td>\n",
       "      <td>NaN</td>\n",
       "      <td>False</td>\n",
       "      <td>1</td>\n",
       "      <td>NaN</td>\n",
       "      <td>NaN</td>\n",
       "      <td>NaN</td>\n",
       "      <td>NaT</td>\n",
       "      <td>nonexistent</td>\n",
       "    </tr>\n",
       "    <tr>\n",
       "      <th>01 - Community/People/hipstersmoothie</th>\n",
       "      <td>NaN</td>\n",
       "      <td>NaN</td>\n",
       "      <td>False</td>\n",
       "      <td>4</td>\n",
       "      <td>NaN</td>\n",
       "      <td>NaN</td>\n",
       "      <td>NaN</td>\n",
       "      <td>NaT</td>\n",
       "      <td>nonexistent</td>\n",
       "    </tr>\n",
       "    <tr>\n",
       "      <th>signynt</th>\n",
       "      <td>NaN</td>\n",
       "      <td>NaN</td>\n",
       "      <td>False</td>\n",
       "      <td>1</td>\n",
       "      <td>NaN</td>\n",
       "      <td>NaN</td>\n",
       "      <td>NaN</td>\n",
       "      <td>NaT</td>\n",
       "      <td>nonexistent</td>\n",
       "    </tr>\n",
       "    <tr>\n",
       "      <th>g-bauer</th>\n",
       "      <td>NaN</td>\n",
       "      <td>NaN</td>\n",
       "      <td>False</td>\n",
       "      <td>1</td>\n",
       "      <td>NaN</td>\n",
       "      <td>NaN</td>\n",
       "      <td>NaN</td>\n",
       "      <td>NaT</td>\n",
       "      <td>nonexistent</td>\n",
       "    </tr>\n",
       "    <tr>\n",
       "      <th>Everblush</th>\n",
       "      <td>NaN</td>\n",
       "      <td>NaN</td>\n",
       "      <td>False</td>\n",
       "      <td>2</td>\n",
       "      <td>NaN</td>\n",
       "      <td>NaN</td>\n",
       "      <td>NaN</td>\n",
       "      <td>NaT</td>\n",
       "      <td>nonexistent</td>\n",
       "    </tr>\n",
       "  </tbody>\n",
       "</table>\n",
       "<p>4874 rows × 9 columns</p>\n",
       "</div>"
      ],
      "text/plain": [
       "                                                                            rel_filepath  \\\n",
       "file                                                                                       \n",
       "                                                                                     NaN   \n",
       "Mammoth                                02 - Community Expansions/02.05 All Community ...   \n",
       "JoshKasap                                             01 - Community/People/JoshKasap.md   \n",
       "iPadOS Apps                            02 - Community Expansions/02.04 Auxiliary Tool...   \n",
       "jgauth                                                   01 - Community/People/jgauth.md   \n",
       "...                                                                                  ...   \n",
       "css-obsidian-layout.png                                                              NaN   \n",
       "01 - Community/People/hipstersmoothie                                                NaN   \n",
       "signynt                                                                              NaN   \n",
       "g-bauer                                                                              NaN   \n",
       "Everblush                                                                            NaN   \n",
       "\n",
       "                                                                            abs_filepath  \\\n",
       "file                                                                                       \n",
       "                                                                                     NaN   \n",
       "Mammoth                                vaultes/obsidian-hub/02 - Community Expansions...   \n",
       "JoshKasap                              vaultes/obsidian-hub/01 - Community/People/Jos...   \n",
       "iPadOS Apps                            vaultes/obsidian-hub/02 - Community Expansions...   \n",
       "jgauth                                 vaultes/obsidian-hub/01 - Community/People/jga...   \n",
       "...                                                                                  ...   \n",
       "css-obsidian-layout.png                                                              NaN   \n",
       "01 - Community/People/hipstersmoothie                                                NaN   \n",
       "signynt                                                                              NaN   \n",
       "g-bauer                                                                              NaN   \n",
       "Everblush                                                                            NaN   \n",
       "\n",
       "                                       file_exists  n_backlinks  n_wikilinks  \\\n",
       "file                                                                           \n",
       "                                             False           18          NaN   \n",
       "Mammoth                                       True            1          2.0   \n",
       "JoshKasap                                     True            2          1.0   \n",
       "iPadOS Apps                                   True           39          0.0   \n",
       "jgauth                                        True            2          1.0   \n",
       "...                                            ...          ...          ...   \n",
       "css-obsidian-layout.png                      False            1          NaN   \n",
       "01 - Community/People/hipstersmoothie        False            4          NaN   \n",
       "signynt                                      False            1          NaN   \n",
       "g-bauer                                      False            1          NaN   \n",
       "Everblush                                    False            2          NaN   \n",
       "\n",
       "                                       n_tags  n_embedded_files  \\\n",
       "file                                                              \n",
       "                                          NaN               NaN   \n",
       "Mammoth                                   1.0               1.0   \n",
       "JoshKasap                                 0.0               0.0   \n",
       "iPadOS Apps                               1.0               0.0   \n",
       "jgauth                                    0.0               0.0   \n",
       "...                                       ...               ...   \n",
       "css-obsidian-layout.png                   NaN               NaN   \n",
       "01 - Community/People/hipstersmoothie     NaN               NaN   \n",
       "signynt                                   NaN               NaN   \n",
       "g-bauer                                   NaN               NaN   \n",
       "Everblush                                 NaN               NaN   \n",
       "\n",
       "                                                      modified_time  \\\n",
       "file                                                                  \n",
       "                                                                NaT   \n",
       "Mammoth                               2023-03-23 23:53:17.859952927   \n",
       "JoshKasap                             2023-03-23 23:53:17.714100599   \n",
       "iPadOS Apps                           2023-03-23 23:53:17.773526192   \n",
       "jgauth                                2023-03-23 23:53:17.741004944   \n",
       "...                                                             ...   \n",
       "css-obsidian-layout.png                                         NaT   \n",
       "01 - Community/People/hipstersmoothie                           NaT   \n",
       "signynt                                                         NaT   \n",
       "g-bauer                                                         NaT   \n",
       "Everblush                                                       NaT   \n",
       "\n",
       "                                      graph_category  \n",
       "file                                                  \n",
       "                                         nonexistent  \n",
       "Mammoth                                         note  \n",
       "JoshKasap                                       note  \n",
       "iPadOS Apps                                     note  \n",
       "jgauth                                          note  \n",
       "...                                              ...  \n",
       "css-obsidian-layout.png                  nonexistent  \n",
       "01 - Community/People/hipstersmoothie    nonexistent  \n",
       "signynt                                  nonexistent  \n",
       "g-bauer                                  nonexistent  \n",
       "Everblush                                nonexistent  \n",
       "\n",
       "[4874 rows x 9 columns]"
      ]
     },
     "execution_count": 90,
     "metadata": {},
     "output_type": "execute_result"
    }
   ],
   "source": [
    "#df = brain_vault.get_all_file_metadata()\n",
    "df = vault.get_all_file_metadata()\n",
    "df"
   ]
  },
  {
   "cell_type": "code",
   "execution_count": 91,
   "id": "14fb366a",
   "metadata": {},
   "outputs": [
    {
     "data": {
      "text/plain": [
       "Everblush                                                                        2\n",
       "g-bauer                                                                          2\n",
       "signynt                                                                          2\n",
       "01 - Community/People/hipstersmoothie                                            2\n",
       "css-obsidian-layout.png                                                          2\n",
       "                                                                                ..\n",
       "01 - Community/People/petr-nazarov                                               1\n",
       "02 - Community Expansions/02.05 All Community Expansions/Themes/Ultra Lobster    1\n",
       "01 - Community/People/aaron-jack-manning                                         1\n",
       "aosr                                                                             1\n",
       "transclusions                                                                    1\n",
       "Name: file, Length: 4869, dtype: int64"
      ]
     },
     "execution_count": 91,
     "metadata": {},
     "output_type": "execute_result"
    }
   ],
   "source": [
    "df.index.value_counts()"
   ]
  },
  {
   "cell_type": "code",
   "execution_count": 92,
   "id": "a4726673",
   "metadata": {},
   "outputs": [
    {
     "data": {
      "text/plain": [
       "4869"
      ]
     },
     "execution_count": 92,
     "metadata": {},
     "output_type": "execute_result"
    }
   ],
   "source": [
    "len(vault.graph.nodes)"
   ]
  },
  {
   "cell_type": "code",
   "execution_count": 93,
   "id": "79bfcb40",
   "metadata": {},
   "outputs": [
    {
     "name": "stdout",
     "output_type": "stream",
     "text": [
      "deleted 72 nodes from graph\n"
     ]
    }
   ],
   "source": [
    "delete_nodes_without_links(vault.graph)"
   ]
  },
  {
   "cell_type": "code",
   "execution_count": 94,
   "id": "81c3ad77",
   "metadata": {},
   "outputs": [
    {
     "data": {
      "text/plain": [
       "4797"
      ]
     },
     "execution_count": 94,
     "metadata": {},
     "output_type": "execute_result"
    }
   ],
   "source": [
    "len(vault.graph.nodes)"
   ]
  },
  {
   "cell_type": "code",
   "execution_count": 95,
   "id": "4a54002e",
   "metadata": {},
   "outputs": [],
   "source": [
    "def get_text_from_html(html):\n",
    "    soup = BeautifulSoup(html, features=\"html.parser\")\n",
    "\n",
    "    # kill all script and style elements\n",
    "    for script in soup([\"script\", \"style\"]):\n",
    "        script.extract()    # rip it out\n",
    "\n",
    "    # get text\n",
    "    text = soup.get_text()\n",
    "\n",
    "    # break into lines and remove leading and trailing space on each\n",
    "    lines = (line.strip() for line in text.splitlines())\n",
    "    # break multi-headlines into a line each\n",
    "    chunks = (phrase.strip() for line in lines for phrase in line.split(\"  \"))\n",
    "    # drop blank lines\n",
    "    text = '\\n'.join(chunk for chunk in chunks if chunk)\n",
    "    return text\n",
    "\n",
    "def get_text_from_markdown(filepath):\n",
    "    with open(filepath, 'r') as f:\n",
    "        text = f.read()\n",
    "        html = md.markdown(text)\n",
    "        text = get_text_from_html(html)\n",
    "    return text\n",
    "\n",
    "def get_text_from_pdf(filepath):\n",
    "    with open(filepath, 'rb') as f:\n",
    "        pdfReader = PyPDF2.PdfReader(f)\n",
    "        text = \"\"\n",
    "        \n",
    "        for page in pdfReader.pages:\n",
    "            text += page.extract_text()\n",
    "            all_images.extend(page.images)\n",
    "    return text\n",
    "\n",
    "\n",
    "def get_images_from_pdf(filepath):\n",
    "    with open(filepath, 'rb') as f:\n",
    "        pdfReader = PyPDF2.PdfReader(f)\n",
    "        images = []\n",
    "        \n",
    "        for page in pdfReader.pages:\n",
    "            for image_file in page.images:\n",
    "                images.append(Image.open(io.BytesIO(image_file.data)))\n",
    "    return images"
   ]
  },
  {
   "cell_type": "code",
   "execution_count": 96,
   "id": "8ff28109",
   "metadata": {},
   "outputs": [
    {
     "name": "stderr",
     "output_type": "stream",
     "text": [
      "Some weights of the model checkpoint at bert-base-multilingual-cased were not used when initializing BertModel: ['cls.seq_relationship.weight', 'cls.predictions.transform.dense.bias', 'cls.predictions.transform.LayerNorm.bias', 'cls.predictions.transform.dense.weight', 'cls.predictions.bias', 'cls.predictions.transform.LayerNorm.weight', 'cls.predictions.decoder.weight', 'cls.seq_relationship.bias']\n",
      "- This IS expected if you are initializing BertModel from the checkpoint of a model trained on another task or with another architecture (e.g. initializing a BertForSequenceClassification model from a BertForPreTraining model).\n",
      "- This IS NOT expected if you are initializing BertModel from the checkpoint of a model that you expect to be exactly identical (initializing a BertForSequenceClassification model from a BertForSequenceClassification model).\n"
     ]
    },
    {
     "data": {
      "text/plain": [
       "1"
      ]
     },
     "execution_count": 96,
     "metadata": {},
     "output_type": "execute_result"
    }
   ],
   "source": [
    "device = \"cuda\" if torch.cuda.is_available() else \"cpu\"\n",
    "\n",
    "tokenizer_bert = BertTokenizer.from_pretrained('bert-base-multilingual-cased')\n",
    "model_bert = BertModel.from_pretrained(\"bert-base-multilingual-cased\")\n",
    "\n",
    "model_bert.to(device)\n",
    "\n",
    "1"
   ]
  },
  {
   "cell_type": "code",
   "execution_count": 97,
   "id": "37655050",
   "metadata": {},
   "outputs": [],
   "source": [
    "# model_i2t = VisionEncoderDecoderModel.from_pretrained(\"nlpconnect/vit-gpt2-image-captioning\")\n",
    "# feature_extractor = ViTImageProcessor.from_pretrained(\"nlpconnect/vit-gpt2-image-captioning\")\n",
    "# tokenizer_i2t = AutoTokenizer.from_pretrained(\"nlpconnect/vit-gpt2-image-captioning\")\n",
    "\n",
    "# model_i2t.to(device)\n",
    "\n",
    "# 1"
   ]
  },
  {
   "cell_type": "code",
   "execution_count": 98,
   "id": "66cb2617",
   "metadata": {},
   "outputs": [],
   "source": [
    "@torch.no_grad()\n",
    "def encode_text(text):\n",
    "    encoded_input = tokenizer_bert(text, truncation=True, return_tensors='pt')\n",
    "    output = model_bert(**encoded_input)\n",
    "    return output.pooler_output.cpu().numpy()[0]"
   ]
  },
  {
   "cell_type": "code",
   "execution_count": 99,
   "id": "dfb5dfbc",
   "metadata": {},
   "outputs": [],
   "source": [
    "# def image_to_text(image):\n",
    "#     if image.mode != \"RGB\":\n",
    "#         image = image.convert(mode=\"RGB\")\n",
    "    \n",
    "#     pixel_values = feature_extractor(images=[image], return_tensors=\"pt\").pixel_values\n",
    "#     pixel_values = pixel_values.to(device)\n",
    "\n",
    "#     gen_kwargs = {\"max_length\": 256, \"num_beams\": 4}\n",
    "#     output_ids = model_i2t.generate(pixel_values, **gen_kwargs)\n",
    "\n",
    "#     preds = tokenizer_i2t.batch_decode(output_ids, skip_special_tokens=True)\n",
    "#     preds = [pred.strip() for pred in preds]\n",
    "#     return preds[0]"
   ]
  },
  {
   "cell_type": "code",
   "execution_count": 100,
   "id": "146c5ab5",
   "metadata": {},
   "outputs": [],
   "source": [
    "# embeddings = []\n",
    "\n",
    "# for path in tqdm(df[\"abs_filepath\"]):\n",
    "#     extension = str(path).split('.')[-1]\n",
    "#     if extension == 'md':\n",
    "#         text = get_text_from_markdown(path)\n",
    "#         embeddings.append(encode_text(text))\n",
    "#     elif extension == 'pdf':\n",
    "#         text = get_text_from_pdf(path)\n",
    "#         images = get_images_from_pdf(path)\n",
    "#         for image in tqdm(images, desc='images', leave=False):\n",
    "#             text += \" \"\n",
    "#             text += image_to_text(image)\n",
    "#         embeddings.append(encode_text(text))\n",
    "#     elif extension in {'jpeg', 'gif', 'png'}:\n",
    "#         image = Image.open(path)\n",
    "#         text = image_to_text(image)\n",
    "#         embeddings.append(encode_text(text))\n",
    "#     else:\n",
    "#         # embeddings.append(np.random.rand(768))\n",
    "#         1/0"
   ]
  },
  {
   "cell_type": "code",
   "execution_count": 101,
   "id": "be065049",
   "metadata": {},
   "outputs": [
    {
     "data": {
      "application/vnd.jupyter.widget-view+json": {
       "model_id": "9a0ebc9b528942339aa2e6c4631c7c4d",
       "version_major": 2,
       "version_minor": 0
      },
      "text/plain": [
       "  0%|          | 0/4797 [00:00<?, ?it/s]"
      ]
     },
     "metadata": {},
     "output_type": "display_data"
    },
    {
     "name": "stderr",
     "output_type": "stream",
     "text": [
      "\n",
      "KeyboardInterrupt\n",
      "\n"
     ]
    }
   ],
   "source": [
    "embeddings = []\n",
    "\n",
    "for text in tqdm(vault.graph.nodes):\n",
    "    embeddings.append(encode_text(text))"
   ]
  },
  {
   "cell_type": "code",
   "execution_count": 67,
   "id": "80f79ce9",
   "metadata": {},
   "outputs": [],
   "source": [
    "emb_dict = {}\n",
    "\n",
    "for file, emb in zip(vault.graph.nodes, embeddings):\n",
    "    emb_dict[file] = emb\n",
    "\n",
    "with open(\"brain_embeddings.pkl\", 'wb') as f:\n",
    "    pickle.dump(emb_dict, f)"
   ]
  },
  {
   "cell_type": "markdown",
   "id": "498ee613",
   "metadata": {},
   "source": [
    "# LightFM part"
   ]
  },
  {
   "cell_type": "code",
   "execution_count": 102,
   "id": "273fe204",
   "metadata": {},
   "outputs": [],
   "source": [
    "from lfm import build_lfm_model\n",
    "from evaluation import topn_recommendations, downvote_seen_items"
   ]
  },
  {
   "cell_type": "code",
   "execution_count": 103,
   "id": "a0fa37e3",
   "metadata": {},
   "outputs": [],
   "source": [
    "# your code here\n",
    "def cartesian_product(x, y):\n",
    "    return np.transpose([np.tile(x, len(y)), np.repeat(y, len(x))])\n",
    "\n",
    "def lightfm_scoring(model, data, data_description, item_bias=True):\n",
    "    users = np.unique(data_description['users'])\n",
    "    items = np.arange(data_description['n_items'])\n",
    "    \n",
    "    user_item_pairs = cartesian_product(users, items)\n",
    "    \n",
    "    if item_bias is False:\n",
    "        cur_biases = lfm_model.item_biases.copy()\n",
    "\n",
    "        lfm_model.item_biases *= 0\n",
    "    \n",
    "    predictions = model.predict(\n",
    "                                user_ids=user_item_pairs[:, 0],\n",
    "                                item_ids=user_item_pairs[:, 1],\n",
    "                                user_features=data_description['user_features'],\n",
    "                                item_features=data_description['item_features'],\n",
    "                               )\n",
    "    scores = predictions.reshape(len(items), len(users))\n",
    "    \n",
    "    if item_bias is False:\n",
    "        lfm_model.item_biases[:] = cur_biases\n",
    "    \n",
    "    return scores.T, users"
   ]
  },
  {
   "cell_type": "code",
   "execution_count": 104,
   "id": "73288f98",
   "metadata": {},
   "outputs": [],
   "source": [
    "def recall(lfm_recs, users, del_edges, holdout_data_description):\n",
    "    \n",
    "    edges_dict = {}\n",
    "    \n",
    "    for edge in del_edges:\n",
    "        edges_dict[edge[0]] = edges_dict.get(edge[0], set())\n",
    "        edges_dict[edge[0]].add(edge[1])\n",
    "    \n",
    "    metric = 0\n",
    "    \n",
    "    for i, rec in enumerate(lfm_recs):\n",
    "        metric += len(set(rec) & edges_dict[users[i]]) / len(edges_dict[users[i]])\n",
    "    \n",
    "    return metric / len(users)"
   ]
  },
  {
   "cell_type": "code",
   "execution_count": 107,
   "id": "a8293181",
   "metadata": {},
   "outputs": [
    {
     "data": {
      "application/vnd.jupyter.widget-view+json": {
       "model_id": "1d17d02d29e2406c98b5c74ee5039146",
       "version_major": 2,
       "version_minor": 0
      },
      "text/plain": [
       "  0%|          | 0/1 [00:00<?, ?it/s]"
      ]
     },
     "metadata": {},
     "output_type": "display_data"
    },
    {
     "data": {
      "application/vnd.jupyter.widget-view+json": {
       "model_id": "b56068ac8cfb46d691ec2b4746e088c1",
       "version_major": 2,
       "version_minor": 0
      },
      "text/plain": [
       "  0%|          | 0/30 [00:00<?, ?it/s]"
      ]
     },
     "metadata": {},
     "output_type": "display_data"
    }
   ],
   "source": [
    "recalls = []\n",
    "\n",
    "alpha = 0.2\n",
    "topn = 20\n",
    "tries = 1\n",
    "\n",
    "\n",
    "for _ in tqdm(range(tries)):\n",
    "    modified_graph, deleted_edges = holdout(vault.graph, alpha=alpha)\n",
    "    \n",
    "    del_edges = []\n",
    "\n",
    "    for edge in deleted_edges:\n",
    "        ind0 = list(vault.graph.nodes).index(edge[0])\n",
    "        ind1 = list(vault.graph.nodes).index(edge[1])\n",
    "        del_edges.append((ind0, ind1))\n",
    "    \n",
    "    train_matrix = nx.adjacency_matrix(modified_graph)\n",
    "    data_description = dict(\n",
    "        n_users = train_matrix.shape[0],\n",
    "        n_items = train_matrix.shape[1],\n",
    "        # user_features = ... skip for now, will be defined later\n",
    "        # item_features = None # compound features are not present in the dataset\n",
    "    )\n",
    "    \n",
    "    with open(\"obsidian_embeddings.pkl\", 'rb') as f:\n",
    "        emb_dict = pickle.load(f)\n",
    "    \n",
    "    data_description[\"user_features\"] = sparse.csr_matrix([emb_dict[file] for file in vault.graph.nodes])\n",
    "    data_description[\"item_features\"] = sparse.csr_matrix([emb_dict[file] for file in vault.graph.nodes])\n",
    "    \n",
    "    holdout_data_description = dict(\n",
    "        users = [de_[0] for de_ in del_edges],\n",
    "        n_items = train_matrix.shape[1],\n",
    "        # user_features = ... skip for now, will be defined later\n",
    "        # item_features = None # compound features are not present in the dataset\n",
    "    )\n",
    "    \n",
    "    holdout_data_description[\"user_features\"] = sparse.csr_matrix([emb_dict[file] for file in vault.graph.nodes])\n",
    "    holdout_data_description[\"item_features\"] = sparse.csr_matrix([emb_dict[file] for file in vault.graph.nodes])\n",
    "    \n",
    "    lfm_config = dict(\n",
    "        no_components = 256,\n",
    "        loss = 'warp',\n",
    "        max_sampled = 1,\n",
    "        max_epochs = 30,\n",
    "        learning_schedule = 'adagrad',\n",
    "        user_alpha = 1e-3,\n",
    "        item_alpha = 1e-3,\n",
    "        random_state = 7032023\n",
    "    )\n",
    "    \n",
    "    lfm_model = build_lfm_model(\n",
    "        lfm_config,\n",
    "        train_matrix,\n",
    "        data_description,\n",
    "        iterator=tqdm\n",
    "    )\n",
    "    \n",
    "    lfm_scores, test_users = lightfm_scoring(lfm_model, None, holdout_data_description, item_bias=False)\n",
    "    for j, user in enumerate(test_users):\n",
    "        for i, check in enumerate(train_matrix.toarray()[user]):\n",
    "            if check == 1.0:\n",
    "                lfm_scores[j, i] = lfm_scores.min() - 1\n",
    "            \n",
    "    # downvote_seen_items(lfm_scores, train_matrix, data_description)\n",
    "    lfm_recs = topn_recommendations(lfm_scores, topn=topn)\n",
    "    \n",
    "    \n",
    "    recalls.append(recall(lfm_recs, test_users, del_edges, holdout_data_description))"
   ]
  },
  {
   "cell_type": "code",
   "execution_count": 108,
   "id": "139ca76d",
   "metadata": {},
   "outputs": [
    {
     "name": "stdout",
     "output_type": "stream",
     "text": [
      "0.1573980865522956\n"
     ]
    }
   ],
   "source": [
    "print(np.mean(recalls))"
   ]
  },
  {
   "cell_type": "code",
   "execution_count": 86,
   "id": "7ab5839b",
   "metadata": {},
   "outputs": [
    {
     "data": {
      "image/png": "[encoded data removed]",
      "text/plain": [
       "<Figure size 640x480 with 1 Axes>"
      ]
     },
     "metadata": {},
     "output_type": "display_data"
    }
   ],
   "source": [
    "fig, ax = plt.subplots(1)\n",
    "hist = pd.DataFrame(recalls).hist(bins=15, ax=ax, label=f'baseline a={alpha}, topn={topn}')\n",
    "ax.legend(loc='best')\n",
    "ax.set_title('')\n",
    "plt.savefig(f'./results/lightfm/alpha={alpha}_topn={topn}_n_exp={tries}_vault=brain.png', dpi=300)"
   ]
  },
  {
   "cell_type": "code",
   "execution_count": null,
   "id": "3c694227",
   "metadata": {},
   "outputs": [],
   "source": []
  }
 ],
 "metadata": {
  "kernelspec": {
   "display_name": "Python 3 (ipykernel)",
   "language": "python",
   "name": "python3"
  },
  "language_info": {
   "codemirror_mode": {
    "name": "ipython",
    "version": 3
   },
   "file_extension": ".py",
   "mimetype": "text/x-python",
   "name": "python",
   "nbconvert_exporter": "python",
   "pygments_lexer": "ipython3",
   "version": "3.9.1rc1"
  }
 },
 "nbformat": 4,
 "nbformat_minor": 5
}
